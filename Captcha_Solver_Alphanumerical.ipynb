{
  "nbformat": 4,
  "nbformat_minor": 0,
  "metadata": {
    "colab": {
      "name": "Captcha_Solver_Alphanumerical.ipynb",
      "provenance": [],
      "collapsed_sections": []
    },
    "kernelspec": {
      "name": "python3",
      "display_name": "Python 3"
    },
    "accelerator": "GPU"
  },
  "cells": [
    {
      "cell_type": "code",
      "metadata": {
        "id": "6Tzheb9xoLiD",
        "colab_type": "code",
        "colab": {
          "base_uri": "https://localhost:8080/",
          "height": 1000
        },
        "outputId": "2a196451-10bd-491a-fa67-2d3872867c3c"
      },
      "source": [
        "%pip install captcha \n",
        "%pip install opencv-python\n",
        "!apt update && apt install -y libsm6 libxext6\n",
        "!pip install opencv-python-headless\n",
        "!pip install opencv-contrib-python-headless\n",
        "%pip install keras\n",
        "\n",
        "\n",
        "import argparse\n",
        "import json\n",
        "import string\n",
        "import os\n",
        "import shutil\n",
        "import uuid\n",
        "from captcha.image import ImageCaptcha\n",
        "\n",
        "import itertools\n",
        "\n",
        "import os\n",
        "import cv2\n",
        "import numpy as np\n",
        "from random import random, randint, choices\n",
        "\n",
        "import keras\n",
        "from keras.models import Sequential, Model\n",
        "from keras.layers import Dense, Dropout, Activation, Flatten\n",
        "from keras.layers import Conv2D, MaxPooling2D, Input\n",
        "import matplotlib.pyplot as plt"
      ],
      "execution_count": 1,
      "outputs": [
        {
          "output_type": "stream",
          "text": [
            "Collecting captcha\n",
            "\u001b[?25l  Downloading https://files.pythonhosted.org/packages/90/fe/d4ddf1e6576073b5eaea76e9b2afa022c626212a30c871968480be3ccb7b/captcha-0.3-py3-none-any.whl (101kB)\n",
            "\r\u001b[K     |███▎                            | 10kB 23.9MB/s eta 0:00:01\r\u001b[K     |██████▌                         | 20kB 3.0MB/s eta 0:00:01\r\u001b[K     |█████████▊                      | 30kB 4.1MB/s eta 0:00:01\r\u001b[K     |█████████████                   | 40kB 4.4MB/s eta 0:00:01\r\u001b[K     |████████████████▏               | 51kB 3.6MB/s eta 0:00:01\r\u001b[K     |███████████████████▍            | 61kB 4.1MB/s eta 0:00:01\r\u001b[K     |██████████████████████▋         | 71kB 4.3MB/s eta 0:00:01\r\u001b[K     |█████████████████████████▉      | 81kB 4.7MB/s eta 0:00:01\r\u001b[K     |█████████████████████████████   | 92kB 5.0MB/s eta 0:00:01\r\u001b[K     |████████████████████████████████| 102kB 3.7MB/s \n",
            "\u001b[?25hRequirement already satisfied: Pillow in /usr/local/lib/python3.6/dist-packages (from captcha) (7.0.0)\n",
            "Installing collected packages: captcha\n",
            "Successfully installed captcha-0.3\n",
            "Requirement already satisfied: opencv-python in /usr/local/lib/python3.6/dist-packages (4.1.2.30)\n",
            "Requirement already satisfied: numpy>=1.11.3 in /usr/local/lib/python3.6/dist-packages (from opencv-python) (1.18.5)\n",
            "Get:1 https://cloud.r-project.org/bin/linux/ubuntu bionic-cran35/ InRelease [3,626 B]\n",
            "Ign:2 https://developer.download.nvidia.com/compute/cuda/repos/ubuntu1804/x86_64  InRelease\n",
            "Ign:3 https://developer.download.nvidia.com/compute/machine-learning/repos/ubuntu1804/x86_64  InRelease\n",
            "Hit:4 https://developer.download.nvidia.com/compute/cuda/repos/ubuntu1804/x86_64  Release\n",
            "Hit:5 https://developer.download.nvidia.com/compute/machine-learning/repos/ubuntu1804/x86_64  Release\n",
            "Get:6 http://security.ubuntu.com/ubuntu bionic-security InRelease [88.7 kB]\n",
            "Hit:7 http://ppa.launchpad.net/graphics-drivers/ppa/ubuntu bionic InRelease\n",
            "Hit:8 http://archive.ubuntu.com/ubuntu bionic InRelease\n",
            "Get:10 http://archive.ubuntu.com/ubuntu bionic-updates InRelease [88.7 kB]\n",
            "Get:11 http://ppa.launchpad.net/marutter/c2d4u3.5/ubuntu bionic InRelease [15.4 kB]\n",
            "Get:13 http://archive.ubuntu.com/ubuntu bionic-backports InRelease [74.6 kB]\n",
            "Get:14 http://ppa.launchpad.net/marutter/c2d4u3.5/ubuntu bionic/main Sources [1,853 kB]\n",
            "Get:15 http://archive.ubuntu.com/ubuntu bionic-updates/main amd64 Packages [1,334 kB]\n",
            "Get:16 http://archive.ubuntu.com/ubuntu bionic-updates/multiverse amd64 Packages [27.1 kB]\n",
            "Get:17 http://archive.ubuntu.com/ubuntu bionic-updates/universe amd64 Packages [1,413 kB]\n",
            "Get:18 http://archive.ubuntu.com/ubuntu bionic-updates/restricted amd64 Packages [116 kB]\n",
            "Get:19 http://ppa.launchpad.net/marutter/c2d4u3.5/ubuntu bionic/main amd64 Packages [894 kB]\n",
            "Fetched 5,909 kB in 4s (1,633 kB/s)\n",
            "Reading package lists... Done\n",
            "Building dependency tree       \n",
            "Reading state information... Done\n",
            "38 packages can be upgraded. Run 'apt list --upgradable' to see them.\n",
            "Reading package lists... Done\n",
            "Building dependency tree       \n",
            "Reading state information... Done\n",
            "libsm6 is already the newest version (2:1.2.2-1).\n",
            "libxext6 is already the newest version (2:1.3.3-1).\n",
            "The following package was automatically installed and is no longer required:\n",
            "  libnvidia-common-440\n",
            "Use 'apt autoremove' to remove it.\n",
            "0 upgraded, 0 newly installed, 0 to remove and 38 not upgraded.\n",
            "Collecting opencv-python-headless\n",
            "\u001b[?25l  Downloading https://files.pythonhosted.org/packages/17/e4/a98a3c3098ea55b6ae193a1cd19a221dc3c1bde87a36db5550addc879d36/opencv_python_headless-4.3.0.36-cp36-cp36m-manylinux2014_x86_64.whl (36.4MB)\n",
            "\u001b[K     |████████████████████████████████| 36.4MB 83kB/s \n",
            "\u001b[?25hRequirement already satisfied: numpy>=1.11.3 in /usr/local/lib/python3.6/dist-packages (from opencv-python-headless) (1.18.5)\n",
            "Installing collected packages: opencv-python-headless\n",
            "Successfully installed opencv-python-headless-4.3.0.36\n",
            "Collecting opencv-contrib-python-headless\n",
            "\u001b[?25l  Downloading https://files.pythonhosted.org/packages/a1/90/b2982491b86fc8f39153162da5775081361ce731156df9a248c55396c5c8/opencv_contrib_python_headless-4.3.0.36-cp36-cp36m-manylinux2014_x86_64.whl (42.6MB)\n",
            "\u001b[K     |████████████████████████████████| 42.6MB 77kB/s \n",
            "\u001b[?25hRequirement already satisfied: numpy>=1.11.3 in /usr/local/lib/python3.6/dist-packages (from opencv-contrib-python-headless) (1.18.5)\n",
            "Installing collected packages: opencv-contrib-python-headless\n",
            "Successfully installed opencv-contrib-python-headless-4.3.0.36\n",
            "Requirement already satisfied: keras in /usr/local/lib/python3.6/dist-packages (2.3.1)\n",
            "Requirement already satisfied: six>=1.9.0 in /usr/local/lib/python3.6/dist-packages (from keras) (1.15.0)\n",
            "Requirement already satisfied: numpy>=1.9.1 in /usr/local/lib/python3.6/dist-packages (from keras) (1.18.5)\n",
            "Requirement already satisfied: keras-preprocessing>=1.0.5 in /usr/local/lib/python3.6/dist-packages (from keras) (1.1.2)\n",
            "Requirement already satisfied: scipy>=0.14 in /usr/local/lib/python3.6/dist-packages (from keras) (1.4.1)\n",
            "Requirement already satisfied: h5py in /usr/local/lib/python3.6/dist-packages (from keras) (2.10.0)\n",
            "Requirement already satisfied: pyyaml in /usr/local/lib/python3.6/dist-packages (from keras) (3.13)\n",
            "Requirement already satisfied: keras-applications>=1.0.6 in /usr/local/lib/python3.6/dist-packages (from keras) (1.0.8)\n"
          ],
          "name": "stdout"
        },
        {
          "output_type": "stream",
          "text": [
            "Using TensorFlow backend.\n"
          ],
          "name": "stderr"
        }
      ]
    },
    {
      "cell_type": "code",
      "metadata": {
        "id": "yuX06GVdok0-",
        "colab_type": "code",
        "colab": {}
      },
      "source": [
        "alphabet_all = list('qwertyupasdfghjkzxcvbnm23456789QWERTYUPKJHGFDSAZXCVBNM')\n",
        "alphabet = list('qwertyupasdfghjkzxcvbnm23456789')#QWERTYUIOPLKJHGFDSAZXCVBNM')\n",
        "num_alphabet = len(alphabet)\n",
        "def _gen_captcha(img_dir, num_of_letters, num_of_repetition, width, height):\n",
        "    if os.path.exists(img_dir):\n",
        "        shutil.rmtree(img_dir)\n",
        "    if not os.path.exists(img_dir):\n",
        "        os.makedirs(img_dir)\n",
        "\n",
        "    image = ImageCaptcha(width=width, height=height)\n",
        "\n",
        "    for counter in range(num_of_repetition):\n",
        "        i = choices(alphabet_all, k=5)\n",
        "        captcha = ''.join(i)\n",
        "        fn = os.path.join(img_dir, '%s_%s.png' % (captcha, uuid.uuid4()))\n",
        "        image.write(captcha, fn)\n",
        "\n",
        "\n",
        "def gen_dataset(path, num_of_repetition, num_of_letters, width, height):\n",
        "    _gen_captcha(os.path.join(path, 'data'), num_of_letters, num_of_repetition, width, height)\n",
        "    print('Finished Data Generation')"
      ],
      "execution_count": 2,
      "outputs": []
    },
    {
      "cell_type": "code",
      "metadata": {
        "id": "MQYOsJyioy5g",
        "colab_type": "code",
        "colab": {}
      },
      "source": [
        "BATCH_SIZE = 128\n",
        "NUM_OF_LETTERS = 5\n",
        "EPOCHS = 50\n",
        "IMG_ROW, IMG_COLS = 50, 135\n",
        "\n",
        "# Non-configs\n",
        "PATH = os.getcwd()\n",
        "DATA_PATH = os.path.join(PATH, 'train')"
      ],
      "execution_count": 3,
      "outputs": []
    },
    {
      "cell_type": "code",
      "metadata": {
        "id": "ItSQ3uTvo5YW",
        "colab_type": "code",
        "colab": {}
      },
      "source": [
        "def load_data(path, test_split=0.1):\n",
        "    print ('loading dataset...')\n",
        "    y_train = []\n",
        "    y_test = []\n",
        "    x_train = []\n",
        "    x_test = []\n",
        "\n",
        "    # r=root, d=directories, f = files\n",
        "    counter = 0\n",
        "    for r, d, f in os.walk(path):\n",
        "        for fl in f:\n",
        "            if '.png' in fl:\n",
        "                flr = fl.split('_')[0]\n",
        "                counter += 1\n",
        "                label = np.zeros((NUM_OF_LETTERS, num_alphabet))\n",
        "                for i in range(NUM_OF_LETTERS):\n",
        "                    label[i, alphabet.index(flr[i].lower())] = 1\n",
        "#                 label = np.zeros((50, 1))\n",
        "#                 for i in range(5):\n",
        "#                     label[i*5+int(flr[i])] = 1\n",
        "\n",
        "                img = cv2.imread(os.path.join(r, fl))\n",
        "                img = cv2.cvtColor(img, cv2.COLOR_BGR2GRAY)\n",
        "                img = cv2.resize(img, (int(135/2), int(50/2)), interpolation=cv2.INTER_AREA)\n",
        "                img = np.reshape(img, (img.shape[0], img.shape[1], 1))\n",
        "\n",
        "                if random() < test_split:\n",
        "                    y_test.append(label)\n",
        "                    x_test.append(img)\n",
        "                else:\n",
        "                    y_train.append(label)\n",
        "                    x_train.append(img)\n",
        "\n",
        "    print('dataset size:', counter, '(train=%d, test=%d)' % (len(y_train), len(y_test)))\n",
        "    return np.array(x_train), np.array(y_train), np.array(x_test), np.array(y_test)"
      ],
      "execution_count": 4,
      "outputs": []
    },
    {
      "cell_type": "code",
      "metadata": {
        "id": "bCqtzWWvo798",
        "colab_type": "code",
        "colab": {
          "base_uri": "https://localhost:8080/",
          "height": 52
        },
        "outputId": "07d26802-aedc-4f24-8ff6-e8458f0c2125"
      },
      "source": [
        "if not os.path.exists(DATA_PATH):\n",
        "    print('Generating Dataset')\n",
        "    gen_dataset(DATA_PATH, 700*1000 , NUM_OF_LETTERS, IMG_COLS, IMG_ROW)"
      ],
      "execution_count": 5,
      "outputs": [
        {
          "output_type": "stream",
          "text": [
            "Generating Dataset\n",
            "Finished Data Generation\n"
          ],
          "name": "stdout"
        }
      ]
    },
    {
      "cell_type": "code",
      "metadata": {
        "id": "AenCMkmco-jv",
        "colab_type": "code",
        "colab": {
          "base_uri": "https://localhost:8080/",
          "height": 52
        },
        "outputId": "77cd1965-6095-4341-a0c2-3259788fa71a"
      },
      "source": [
        "x_train, y_train, x_test, y_test = load_data(DATA_PATH)\n",
        "\n",
        "x_train = x_train.astype('float32')\n",
        "x_test = x_test.astype('float32')\n",
        "x_train /= 255\n",
        "x_test /= 255"
      ],
      "execution_count": 6,
      "outputs": [
        {
          "output_type": "stream",
          "text": [
            "loading dataset...\n",
            "dataset size: 10000 (train=8953, test=1047)\n"
          ],
          "name": "stdout"
        }
      ]
    },
    {
      "cell_type": "code",
      "metadata": {
        "id": "zqV-rssUuhIy",
        "colab_type": "code",
        "colab": {
          "base_uri": "https://localhost:8080/",
          "height": 88
        },
        "outputId": "cebc9f7e-f5a8-42a8-882d-80e1b7b0b131"
      },
      "source": [
        "print(x_train.shape)\n",
        "print(y_train.shape)\n",
        "print(x_test.shape)\n",
        "print(y_test.shape)"
      ],
      "execution_count": 7,
      "outputs": [
        {
          "output_type": "stream",
          "text": [
            "(8953, 25, 67, 1)\n",
            "(8953, 5, 31)\n",
            "(1047, 25, 67, 1)\n",
            "(1047, 5, 31)\n"
          ],
          "name": "stdout"
        }
      ]
    },
    {
      "cell_type": "code",
      "metadata": {
        "id": "eASawvTyvMaL",
        "colab_type": "code",
        "colab": {}
      },
      "source": [
        "s_train = []\n",
        "s_test = []\n",
        "for i in range(NUM_OF_LETTERS):\n",
        "    s_train.append(y_train[:, i, :])\n",
        "    s_test.append(y_test[:, i, :])"
      ],
      "execution_count": 8,
      "outputs": []
    },
    {
      "cell_type": "code",
      "metadata": {
        "id": "DCom2NFKvVF0",
        "colab_type": "code",
        "colab": {}
      },
      "source": [
        "save_dir = os.path.join(PATH, 'saved_models')\n",
        "model_name = 'keras_cifar10_trained_model.h5'"
      ],
      "execution_count": 9,
      "outputs": []
    },
    {
      "cell_type": "code",
      "metadata": {
        "id": "XS0vWhEuvXgo",
        "colab_type": "code",
        "colab": {}
      },
      "source": [
        "input_layer = Input((25, 67, 1))\n",
        "x = Conv2D(filters=32, kernel_size=(5, 5), padding='same', activation='relu')(input_layer)\n",
        "x = MaxPooling2D(pool_size=(2, 2))(x)\n",
        "\n",
        "x = Conv2D(filters=48, kernel_size=(5, 5), padding='same', activation='relu')(x)\n",
        "x = MaxPooling2D(pool_size=(2, 2))(x)\n",
        "\n",
        "x = Conv2D(filters=64, kernel_size=(5, 5), padding='same', activation='relu')(x)\n",
        "x = MaxPooling2D(pool_size=(2, 2))(x)\n",
        "\n",
        "x = Dropout(0.3)(x)\n",
        "x = Flatten()(x)\n",
        "x = Dense(512, activation='relu')(x)\n",
        "x = Dropout(0.3)(x)\n",
        "\n",
        "out = [Dense(num_alphabet, name='digit%d' % i, activation='softmax')(x) for i in range(NUM_OF_LETTERS)]\n",
        "# out = Dense(num_alphabet*5, activation='sigmoid')(x)\n",
        "\n",
        "model = Model(inputs=input_layer, outputs=out)"
      ],
      "execution_count": 10,
      "outputs": []
    },
    {
      "cell_type": "code",
      "metadata": {
        "id": "_1aTZ32pvZpl",
        "colab_type": "code",
        "colab": {}
      },
      "source": [
        "# model_path = os.path.join(save_dir, model_name)\n",
        "# model = keras.models.load_model(model_path)"
      ],
      "execution_count": 11,
      "outputs": []
    },
    {
      "cell_type": "code",
      "metadata": {
        "id": "mvyFxZTlvfKR",
        "colab_type": "code",
        "colab": {
          "base_uri": "https://localhost:8080/",
          "height": 728
        },
        "outputId": "e7e68721-8767-4bca-f1fb-7d02e7b68dc0"
      },
      "source": [
        "# initiate Adam optimizer\n",
        "\n",
        "model.compile(loss='binary_crossentropy',\n",
        "              optimizer='adam',\n",
        "              metrics=['accuracy'])\n",
        "\n",
        "\n",
        "model.summary() "
      ],
      "execution_count": 12,
      "outputs": [
        {
          "output_type": "stream",
          "text": [
            "Model: \"model_1\"\n",
            "__________________________________________________________________________________________________\n",
            "Layer (type)                    Output Shape         Param #     Connected to                     \n",
            "==================================================================================================\n",
            "input_1 (InputLayer)            (None, 25, 67, 1)    0                                            \n",
            "__________________________________________________________________________________________________\n",
            "conv2d_1 (Conv2D)               (None, 25, 67, 32)   832         input_1[0][0]                    \n",
            "__________________________________________________________________________________________________\n",
            "max_pooling2d_1 (MaxPooling2D)  (None, 12, 33, 32)   0           conv2d_1[0][0]                   \n",
            "__________________________________________________________________________________________________\n",
            "conv2d_2 (Conv2D)               (None, 12, 33, 48)   38448       max_pooling2d_1[0][0]            \n",
            "__________________________________________________________________________________________________\n",
            "max_pooling2d_2 (MaxPooling2D)  (None, 6, 16, 48)    0           conv2d_2[0][0]                   \n",
            "__________________________________________________________________________________________________\n",
            "conv2d_3 (Conv2D)               (None, 6, 16, 64)    76864       max_pooling2d_2[0][0]            \n",
            "__________________________________________________________________________________________________\n",
            "max_pooling2d_3 (MaxPooling2D)  (None, 3, 8, 64)     0           conv2d_3[0][0]                   \n",
            "__________________________________________________________________________________________________\n",
            "dropout_1 (Dropout)             (None, 3, 8, 64)     0           max_pooling2d_3[0][0]            \n",
            "__________________________________________________________________________________________________\n",
            "flatten_1 (Flatten)             (None, 1536)         0           dropout_1[0][0]                  \n",
            "__________________________________________________________________________________________________\n",
            "dense_1 (Dense)                 (None, 512)          786944      flatten_1[0][0]                  \n",
            "__________________________________________________________________________________________________\n",
            "dropout_2 (Dropout)             (None, 512)          0           dense_1[0][0]                    \n",
            "__________________________________________________________________________________________________\n",
            "digit0 (Dense)                  (None, 31)           15903       dropout_2[0][0]                  \n",
            "__________________________________________________________________________________________________\n",
            "digit1 (Dense)                  (None, 31)           15903       dropout_2[0][0]                  \n",
            "__________________________________________________________________________________________________\n",
            "digit2 (Dense)                  (None, 31)           15903       dropout_2[0][0]                  \n",
            "__________________________________________________________________________________________________\n",
            "digit3 (Dense)                  (None, 31)           15903       dropout_2[0][0]                  \n",
            "__________________________________________________________________________________________________\n",
            "digit4 (Dense)                  (None, 31)           15903       dropout_2[0][0]                  \n",
            "==================================================================================================\n",
            "Total params: 982,603\n",
            "Trainable params: 982,603\n",
            "Non-trainable params: 0\n",
            "__________________________________________________________________________________________________\n"
          ],
          "name": "stdout"
        }
      ]
    },
    {
      "cell_type": "code",
      "metadata": {
        "id": "xNW40AXivcK7",
        "colab_type": "code",
        "colab": {}
      },
      "source": [
        "hist_train_loss_digit = {i:[] for i in range(5)}\n",
        "hist_test_loss_digit = {i:[] for i in range(5)}\n",
        "\n",
        "hist_train_acc_digit = {i:[] for i in range(5)}\n",
        "hist_test_acc_digit = {i:[] for i in range(5)}\n",
        "\n",
        "hist_train_loss = []\n",
        "hist_test_loss = []\n",
        "\n",
        "hist_train_acc = []\n",
        "hist_test_acc = []"
      ],
      "execution_count": 13,
      "outputs": []
    },
    {
      "cell_type": "code",
      "metadata": {
        "id": "VFeIxaatvhap",
        "colab_type": "code",
        "colab": {}
      },
      "source": [
        "digit_acc = [[] for _ in range(NUM_OF_LETTERS)]\n",
        "val_digit_acc = [[] for _ in range(NUM_OF_LETTERS)]\n",
        "loss = []\n",
        "val_loss = []"
      ],
      "execution_count": 14,
      "outputs": []
    },
    {
      "cell_type": "code",
      "metadata": {
        "id": "IQTy-mCRvjIz",
        "colab_type": "code",
        "colab": {
          "base_uri": "https://localhost:8080/",
          "height": 1000
        },
        "outputId": "ed453b3f-f6a8-40f5-932a-50064fbac4cb"
      },
      "source": [
        "history = model.fit(x_train, s_train,\n",
        "                    batch_size=BATCH_SIZE,\n",
        "                    epochs=EPOCHS,\n",
        "                    verbose=1,\n",
        "                    validation_data=(x_test, s_test)\n",
        "                   )"
      ],
      "execution_count": 15,
      "outputs": [
        {
          "output_type": "stream",
          "text": [
            "Train on 8953 samples, validate on 1047 samples\n",
            "Epoch 1/50\n",
            "8953/8953 [==============================] - 9s 1ms/step - loss: 0.7088 - digit0_loss: 0.1418 - digit1_loss: 0.1418 - digit2_loss: 0.1418 - digit3_loss: 0.1417 - digit4_loss: 0.1418 - digit0_accuracy: 0.9677 - digit1_accuracy: 0.9677 - digit2_accuracy: 0.9677 - digit3_accuracy: 0.9677 - digit4_accuracy: 0.9677 - val_loss: 0.7077 - val_digit0_loss: 0.1417 - val_digit1_loss: 0.1417 - val_digit2_loss: 0.1411 - val_digit3_loss: 0.1419 - val_digit4_loss: 0.1416 - val_digit0_accuracy: 0.9677 - val_digit1_accuracy: 0.9677 - val_digit2_accuracy: 0.9677 - val_digit3_accuracy: 0.9677 - val_digit4_accuracy: 0.9677\n",
            "Epoch 2/50\n",
            "8953/8953 [==============================] - 1s 158us/step - loss: 0.7073 - digit0_loss: 0.1415 - digit1_loss: 0.1416 - digit2_loss: 0.1415 - digit3_loss: 0.1414 - digit4_loss: 0.1414 - digit0_accuracy: 0.9677 - digit1_accuracy: 0.9677 - digit2_accuracy: 0.9677 - digit3_accuracy: 0.9677 - digit4_accuracy: 0.9677 - val_loss: 0.7075 - val_digit0_loss: 0.1416 - val_digit1_loss: 0.1416 - val_digit2_loss: 0.1412 - val_digit3_loss: 0.1418 - val_digit4_loss: 0.1416 - val_digit0_accuracy: 0.9677 - val_digit1_accuracy: 0.9677 - val_digit2_accuracy: 0.9677 - val_digit3_accuracy: 0.9677 - val_digit4_accuracy: 0.9677\n",
            "Epoch 3/50\n",
            "8953/8953 [==============================] - 1s 152us/step - loss: 0.7071 - digit0_loss: 0.1414 - digit1_loss: 0.1415 - digit2_loss: 0.1414 - digit3_loss: 0.1414 - digit4_loss: 0.1413 - digit0_accuracy: 0.9677 - digit1_accuracy: 0.9677 - digit2_accuracy: 0.9677 - digit3_accuracy: 0.9677 - digit4_accuracy: 0.9677 - val_loss: 0.7072 - val_digit0_loss: 0.1415 - val_digit1_loss: 0.1416 - val_digit2_loss: 0.1411 - val_digit3_loss: 0.1418 - val_digit4_loss: 0.1415 - val_digit0_accuracy: 0.9677 - val_digit1_accuracy: 0.9677 - val_digit2_accuracy: 0.9677 - val_digit3_accuracy: 0.9677 - val_digit4_accuracy: 0.9677\n",
            "Epoch 4/50\n",
            "8953/8953 [==============================] - 1s 150us/step - loss: 0.7062 - digit0_loss: 0.1409 - digit1_loss: 0.1415 - digit2_loss: 0.1414 - digit3_loss: 0.1412 - digit4_loss: 0.1412 - digit0_accuracy: 0.9677 - digit1_accuracy: 0.9677 - digit2_accuracy: 0.9677 - digit3_accuracy: 0.9677 - digit4_accuracy: 0.9677 - val_loss: 0.7043 - val_digit0_loss: 0.1396 - val_digit1_loss: 0.1414 - val_digit2_loss: 0.1410 - val_digit3_loss: 0.1415 - val_digit4_loss: 0.1411 - val_digit0_accuracy: 0.9677 - val_digit1_accuracy: 0.9677 - val_digit2_accuracy: 0.9677 - val_digit3_accuracy: 0.9677 - val_digit4_accuracy: 0.9677\n",
            "Epoch 5/50\n",
            "8953/8953 [==============================] - 1s 150us/step - loss: 0.6975 - digit0_loss: 0.1371 - digit1_loss: 0.1407 - digit2_loss: 0.1405 - digit3_loss: 0.1402 - digit4_loss: 0.1390 - digit0_accuracy: 0.9677 - digit1_accuracy: 0.9677 - digit2_accuracy: 0.9677 - digit3_accuracy: 0.9677 - digit4_accuracy: 0.9677 - val_loss: 0.6844 - val_digit0_loss: 0.1338 - val_digit1_loss: 0.1380 - val_digit2_loss: 0.1392 - val_digit3_loss: 0.1388 - val_digit4_loss: 0.1346 - val_digit0_accuracy: 0.9677 - val_digit1_accuracy: 0.9677 - val_digit2_accuracy: 0.9677 - val_digit3_accuracy: 0.9677 - val_digit4_accuracy: 0.9677\n",
            "Epoch 6/50\n",
            "8953/8953 [==============================] - 1s 155us/step - loss: 0.6734 - digit0_loss: 0.1296 - digit1_loss: 0.1374 - digit2_loss: 0.1374 - digit3_loss: 0.1365 - digit4_loss: 0.1323 - digit0_accuracy: 0.9677 - digit1_accuracy: 0.9677 - digit2_accuracy: 0.9677 - digit3_accuracy: 0.9677 - digit4_accuracy: 0.9678 - val_loss: 0.6492 - val_digit0_loss: 0.1227 - val_digit1_loss: 0.1334 - val_digit2_loss: 0.1347 - val_digit3_loss: 0.1335 - val_digit4_loss: 0.1252 - val_digit0_accuracy: 0.9680 - val_digit1_accuracy: 0.9677 - val_digit2_accuracy: 0.9678 - val_digit3_accuracy: 0.9677 - val_digit4_accuracy: 0.9678\n",
            "Epoch 7/50\n",
            "8953/8953 [==============================] - 1s 150us/step - loss: 0.6364 - digit0_loss: 0.1185 - digit1_loss: 0.1323 - digit2_loss: 0.1326 - digit3_loss: 0.1311 - digit4_loss: 0.1219 - digit0_accuracy: 0.9680 - digit1_accuracy: 0.9677 - digit2_accuracy: 0.9677 - digit3_accuracy: 0.9677 - digit4_accuracy: 0.9678 - val_loss: 0.6166 - val_digit0_loss: 0.1107 - val_digit1_loss: 0.1308 - val_digit2_loss: 0.1307 - val_digit3_loss: 0.1285 - val_digit4_loss: 0.1162 - val_digit0_accuracy: 0.9687 - val_digit1_accuracy: 0.9678 - val_digit2_accuracy: 0.9678 - val_digit3_accuracy: 0.9678 - val_digit4_accuracy: 0.9680\n",
            "Epoch 8/50\n",
            "8953/8953 [==============================] - 1s 151us/step - loss: 0.5902 - digit0_loss: 0.1054 - digit1_loss: 0.1254 - digit2_loss: 0.1267 - digit3_loss: 0.1239 - digit4_loss: 0.1087 - digit0_accuracy: 0.9690 - digit1_accuracy: 0.9679 - digit2_accuracy: 0.9679 - digit3_accuracy: 0.9680 - digit4_accuracy: 0.9686 - val_loss: 0.5526 - val_digit0_loss: 0.0936 - val_digit1_loss: 0.1225 - val_digit2_loss: 0.1211 - val_digit3_loss: 0.1195 - val_digit4_loss: 0.0977 - val_digit0_accuracy: 0.9709 - val_digit1_accuracy: 0.9682 - val_digit2_accuracy: 0.9679 - val_digit3_accuracy: 0.9682 - val_digit4_accuracy: 0.9701\n",
            "Epoch 9/50\n",
            "8953/8953 [==============================] - 1s 153us/step - loss: 0.5408 - digit0_loss: 0.0925 - digit1_loss: 0.1177 - digit2_loss: 0.1197 - digit3_loss: 0.1158 - digit4_loss: 0.0950 - digit0_accuracy: 0.9711 - digit1_accuracy: 0.9684 - digit2_accuracy: 0.9682 - digit3_accuracy: 0.9684 - digit4_accuracy: 0.9704 - val_loss: 0.5047 - val_digit0_loss: 0.0818 - val_digit1_loss: 0.1145 - val_digit2_loss: 0.1146 - val_digit3_loss: 0.1112 - val_digit4_loss: 0.0844 - val_digit0_accuracy: 0.9728 - val_digit1_accuracy: 0.9687 - val_digit2_accuracy: 0.9684 - val_digit3_accuracy: 0.9692 - val_digit4_accuracy: 0.9724\n",
            "Epoch 10/50\n",
            "8953/8953 [==============================] - 1s 152us/step - loss: 0.4955 - digit0_loss: 0.0820 - digit1_loss: 0.1100 - digit2_loss: 0.1128 - digit3_loss: 0.1074 - digit4_loss: 0.0833 - digit0_accuracy: 0.9731 - digit1_accuracy: 0.9690 - digit2_accuracy: 0.9687 - digit3_accuracy: 0.9693 - digit4_accuracy: 0.9727 - val_loss: 0.4704 - val_digit0_loss: 0.0748 - val_digit1_loss: 0.1089 - val_digit2_loss: 0.1090 - val_digit3_loss: 0.1053 - val_digit4_loss: 0.0745 - val_digit0_accuracy: 0.9740 - val_digit1_accuracy: 0.9693 - val_digit2_accuracy: 0.9690 - val_digit3_accuracy: 0.9693 - val_digit4_accuracy: 0.9751\n",
            "Epoch 11/50\n",
            "8953/8953 [==============================] - 1s 150us/step - loss: 0.4607 - digit0_loss: 0.0743 - digit1_loss: 0.1036 - digit2_loss: 0.1072 - digit3_loss: 0.1018 - digit4_loss: 0.0738 - digit0_accuracy: 0.9751 - digit1_accuracy: 0.9698 - digit2_accuracy: 0.9693 - digit3_accuracy: 0.9699 - digit4_accuracy: 0.9749 - val_loss: 0.4454 - val_digit0_loss: 0.0697 - val_digit1_loss: 0.1036 - val_digit2_loss: 0.1058 - val_digit3_loss: 0.0999 - val_digit4_loss: 0.0685 - val_digit0_accuracy: 0.9757 - val_digit1_accuracy: 0.9704 - val_digit2_accuracy: 0.9699 - val_digit3_accuracy: 0.9700 - val_digit4_accuracy: 0.9774\n",
            "Epoch 12/50\n",
            "8953/8953 [==============================] - 1s 152us/step - loss: 0.4331 - digit0_loss: 0.0689 - digit1_loss: 0.0984 - digit2_loss: 0.1023 - digit3_loss: 0.0962 - digit4_loss: 0.0673 - digit0_accuracy: 0.9765 - digit1_accuracy: 0.9706 - digit2_accuracy: 0.9700 - digit3_accuracy: 0.9707 - digit4_accuracy: 0.9768 - val_loss: 0.4241 - val_digit0_loss: 0.0647 - val_digit1_loss: 0.0991 - val_digit2_loss: 0.1023 - val_digit3_loss: 0.0967 - val_digit4_loss: 0.0624 - val_digit0_accuracy: 0.9778 - val_digit1_accuracy: 0.9708 - val_digit2_accuracy: 0.9696 - val_digit3_accuracy: 0.9705 - val_digit4_accuracy: 0.9784\n",
            "Epoch 13/50\n",
            "8953/8953 [==============================] - 1s 152us/step - loss: 0.4067 - digit0_loss: 0.0628 - digit1_loss: 0.0932 - digit2_loss: 0.0981 - digit3_loss: 0.0909 - digit4_loss: 0.0618 - digit0_accuracy: 0.9784 - digit1_accuracy: 0.9714 - digit2_accuracy: 0.9707 - digit3_accuracy: 0.9718 - digit4_accuracy: 0.9785 - val_loss: 0.4044 - val_digit0_loss: 0.0598 - val_digit1_loss: 0.0947 - val_digit2_loss: 0.0990 - val_digit3_loss: 0.0927 - val_digit4_loss: 0.0592 - val_digit0_accuracy: 0.9791 - val_digit1_accuracy: 0.9723 - val_digit2_accuracy: 0.9705 - val_digit3_accuracy: 0.9712 - val_digit4_accuracy: 0.9798\n",
            "Epoch 14/50\n",
            "8953/8953 [==============================] - 1s 151us/step - loss: 0.3838 - digit0_loss: 0.0586 - digit1_loss: 0.0888 - digit2_loss: 0.0946 - digit3_loss: 0.0861 - digit4_loss: 0.0558 - digit0_accuracy: 0.9798 - digit1_accuracy: 0.9725 - digit2_accuracy: 0.9711 - digit3_accuracy: 0.9727 - digit4_accuracy: 0.9805 - val_loss: 0.3923 - val_digit0_loss: 0.0586 - val_digit1_loss: 0.0920 - val_digit2_loss: 0.0966 - val_digit3_loss: 0.0906 - val_digit4_loss: 0.0562 - val_digit0_accuracy: 0.9801 - val_digit1_accuracy: 0.9720 - val_digit2_accuracy: 0.9705 - val_digit3_accuracy: 0.9717 - val_digit4_accuracy: 0.9805\n",
            "Epoch 15/50\n",
            "8953/8953 [==============================] - 1s 153us/step - loss: 0.3668 - digit0_loss: 0.0547 - digit1_loss: 0.0852 - digit2_loss: 0.0910 - digit3_loss: 0.0828 - digit4_loss: 0.0531 - digit0_accuracy: 0.9811 - digit1_accuracy: 0.9730 - digit2_accuracy: 0.9720 - digit3_accuracy: 0.9736 - digit4_accuracy: 0.9814 - val_loss: 0.3768 - val_digit0_loss: 0.0551 - val_digit1_loss: 0.0882 - val_digit2_loss: 0.0953 - val_digit3_loss: 0.0872 - val_digit4_loss: 0.0523 - val_digit0_accuracy: 0.9810 - val_digit1_accuracy: 0.9731 - val_digit2_accuracy: 0.9715 - val_digit3_accuracy: 0.9720 - val_digit4_accuracy: 0.9819\n",
            "Epoch 16/50\n",
            "8953/8953 [==============================] - 1s 150us/step - loss: 0.3502 - digit0_loss: 0.0519 - digit1_loss: 0.0817 - digit2_loss: 0.0877 - digit3_loss: 0.0792 - digit4_loss: 0.0497 - digit0_accuracy: 0.9816 - digit1_accuracy: 0.9738 - digit2_accuracy: 0.9727 - digit3_accuracy: 0.9745 - digit4_accuracy: 0.9827 - val_loss: 0.3682 - val_digit0_loss: 0.0534 - val_digit1_loss: 0.0862 - val_digit2_loss: 0.0941 - val_digit3_loss: 0.0851 - val_digit4_loss: 0.0507 - val_digit0_accuracy: 0.9816 - val_digit1_accuracy: 0.9735 - val_digit2_accuracy: 0.9717 - val_digit3_accuracy: 0.9725 - val_digit4_accuracy: 0.9823\n",
            "Epoch 17/50\n",
            "8953/8953 [==============================] - 1s 149us/step - loss: 0.3353 - digit0_loss: 0.0491 - digit1_loss: 0.0789 - digit2_loss: 0.0842 - digit3_loss: 0.0763 - digit4_loss: 0.0468 - digit0_accuracy: 0.9828 - digit1_accuracy: 0.9746 - digit2_accuracy: 0.9735 - digit3_accuracy: 0.9751 - digit4_accuracy: 0.9835 - val_loss: 0.3617 - val_digit0_loss: 0.0514 - val_digit1_loss: 0.0848 - val_digit2_loss: 0.0924 - val_digit3_loss: 0.0846 - val_digit4_loss: 0.0494 - val_digit0_accuracy: 0.9822 - val_digit1_accuracy: 0.9741 - val_digit2_accuracy: 0.9715 - val_digit3_accuracy: 0.9727 - val_digit4_accuracy: 0.9828\n",
            "Epoch 18/50\n",
            "8953/8953 [==============================] - 1s 152us/step - loss: 0.3212 - digit0_loss: 0.0460 - digit1_loss: 0.0753 - digit2_loss: 0.0814 - digit3_loss: 0.0729 - digit4_loss: 0.0456 - digit0_accuracy: 0.9837 - digit1_accuracy: 0.9755 - digit2_accuracy: 0.9743 - digit3_accuracy: 0.9759 - digit4_accuracy: 0.9839 - val_loss: 0.3566 - val_digit0_loss: 0.0507 - val_digit1_loss: 0.0823 - val_digit2_loss: 0.0913 - val_digit3_loss: 0.0831 - val_digit4_loss: 0.0502 - val_digit0_accuracy: 0.9831 - val_digit1_accuracy: 0.9751 - val_digit2_accuracy: 0.9721 - val_digit3_accuracy: 0.9731 - val_digit4_accuracy: 0.9830\n",
            "Epoch 19/50\n",
            "8953/8953 [==============================] - 1s 150us/step - loss: 0.3088 - digit0_loss: 0.0438 - digit1_loss: 0.0729 - digit2_loss: 0.0786 - digit3_loss: 0.0704 - digit4_loss: 0.0432 - digit0_accuracy: 0.9844 - digit1_accuracy: 0.9761 - digit2_accuracy: 0.9748 - digit3_accuracy: 0.9766 - digit4_accuracy: 0.9848 - val_loss: 0.3498 - val_digit0_loss: 0.0502 - val_digit1_loss: 0.0808 - val_digit2_loss: 0.0893 - val_digit3_loss: 0.0812 - val_digit4_loss: 0.0488 - val_digit0_accuracy: 0.9824 - val_digit1_accuracy: 0.9749 - val_digit2_accuracy: 0.9723 - val_digit3_accuracy: 0.9735 - val_digit4_accuracy: 0.9829\n",
            "Epoch 20/50\n",
            "8953/8953 [==============================] - 1s 152us/step - loss: 0.3005 - digit0_loss: 0.0427 - digit1_loss: 0.0704 - digit2_loss: 0.0772 - digit3_loss: 0.0691 - digit4_loss: 0.0412 - digit0_accuracy: 0.9847 - digit1_accuracy: 0.9769 - digit2_accuracy: 0.9751 - digit3_accuracy: 0.9772 - digit4_accuracy: 0.9852 - val_loss: 0.3419 - val_digit0_loss: 0.0481 - val_digit1_loss: 0.0789 - val_digit2_loss: 0.0883 - val_digit3_loss: 0.0804 - val_digit4_loss: 0.0469 - val_digit0_accuracy: 0.9836 - val_digit1_accuracy: 0.9756 - val_digit2_accuracy: 0.9726 - val_digit3_accuracy: 0.9736 - val_digit4_accuracy: 0.9839\n",
            "Epoch 21/50\n",
            "8953/8953 [==============================] - 1s 151us/step - loss: 0.2884 - digit0_loss: 0.0410 - digit1_loss: 0.0677 - digit2_loss: 0.0737 - digit3_loss: 0.0666 - digit4_loss: 0.0393 - digit0_accuracy: 0.9855 - digit1_accuracy: 0.9776 - digit2_accuracy: 0.9761 - digit3_accuracy: 0.9779 - digit4_accuracy: 0.9859 - val_loss: 0.3391 - val_digit0_loss: 0.0485 - val_digit1_loss: 0.0782 - val_digit2_loss: 0.0879 - val_digit3_loss: 0.0789 - val_digit4_loss: 0.0460 - val_digit0_accuracy: 0.9838 - val_digit1_accuracy: 0.9757 - val_digit2_accuracy: 0.9727 - val_digit3_accuracy: 0.9743 - val_digit4_accuracy: 0.9843\n",
            "Epoch 22/50\n",
            "8953/8953 [==============================] - 1s 151us/step - loss: 0.2780 - digit0_loss: 0.0392 - digit1_loss: 0.0656 - digit2_loss: 0.0721 - digit3_loss: 0.0637 - digit4_loss: 0.0374 - digit0_accuracy: 0.9860 - digit1_accuracy: 0.9777 - digit2_accuracy: 0.9765 - digit3_accuracy: 0.9786 - digit4_accuracy: 0.9866 - val_loss: 0.3351 - val_digit0_loss: 0.0454 - val_digit1_loss: 0.0783 - val_digit2_loss: 0.0873 - val_digit3_loss: 0.0782 - val_digit4_loss: 0.0460 - val_digit0_accuracy: 0.9842 - val_digit1_accuracy: 0.9762 - val_digit2_accuracy: 0.9729 - val_digit3_accuracy: 0.9745 - val_digit4_accuracy: 0.9847\n",
            "Epoch 23/50\n",
            "8953/8953 [==============================] - 1s 151us/step - loss: 0.2697 - digit0_loss: 0.0374 - digit1_loss: 0.0639 - digit2_loss: 0.0699 - digit3_loss: 0.0621 - digit4_loss: 0.0364 - digit0_accuracy: 0.9872 - digit1_accuracy: 0.9785 - digit2_accuracy: 0.9771 - digit3_accuracy: 0.9791 - digit4_accuracy: 0.9869 - val_loss: 0.3349 - val_digit0_loss: 0.0460 - val_digit1_loss: 0.0775 - val_digit2_loss: 0.0865 - val_digit3_loss: 0.0785 - val_digit4_loss: 0.0472 - val_digit0_accuracy: 0.9844 - val_digit1_accuracy: 0.9764 - val_digit2_accuracy: 0.9732 - val_digit3_accuracy: 0.9750 - val_digit4_accuracy: 0.9835\n",
            "Epoch 24/50\n",
            "8953/8953 [==============================] - 1s 152us/step - loss: 0.2628 - digit0_loss: 0.0365 - digit1_loss: 0.0622 - digit2_loss: 0.0680 - digit3_loss: 0.0606 - digit4_loss: 0.0354 - digit0_accuracy: 0.9870 - digit1_accuracy: 0.9789 - digit2_accuracy: 0.9775 - digit3_accuracy: 0.9793 - digit4_accuracy: 0.9871 - val_loss: 0.3268 - val_digit0_loss: 0.0454 - val_digit1_loss: 0.0757 - val_digit2_loss: 0.0839 - val_digit3_loss: 0.0776 - val_digit4_loss: 0.0440 - val_digit0_accuracy: 0.9843 - val_digit1_accuracy: 0.9766 - val_digit2_accuracy: 0.9735 - val_digit3_accuracy: 0.9752 - val_digit4_accuracy: 0.9848\n",
            "Epoch 25/50\n",
            "8953/8953 [==============================] - 1s 151us/step - loss: 0.2554 - digit0_loss: 0.0353 - digit1_loss: 0.0609 - digit2_loss: 0.0669 - digit3_loss: 0.0578 - digit4_loss: 0.0345 - digit0_accuracy: 0.9871 - digit1_accuracy: 0.9794 - digit2_accuracy: 0.9778 - digit3_accuracy: 0.9802 - digit4_accuracy: 0.9876 - val_loss: 0.3272 - val_digit0_loss: 0.0454 - val_digit1_loss: 0.0770 - val_digit2_loss: 0.0842 - val_digit3_loss: 0.0767 - val_digit4_loss: 0.0441 - val_digit0_accuracy: 0.9844 - val_digit1_accuracy: 0.9756 - val_digit2_accuracy: 0.9736 - val_digit3_accuracy: 0.9753 - val_digit4_accuracy: 0.9838\n",
            "Epoch 26/50\n",
            "8953/8953 [==============================] - 1s 150us/step - loss: 0.2450 - digit0_loss: 0.0333 - digit1_loss: 0.0580 - digit2_loss: 0.0650 - digit3_loss: 0.0565 - digit4_loss: 0.0322 - digit0_accuracy: 0.9882 - digit1_accuracy: 0.9800 - digit2_accuracy: 0.9782 - digit3_accuracy: 0.9806 - digit4_accuracy: 0.9886 - val_loss: 0.3219 - val_digit0_loss: 0.0452 - val_digit1_loss: 0.0755 - val_digit2_loss: 0.0836 - val_digit3_loss: 0.0756 - val_digit4_loss: 0.0432 - val_digit0_accuracy: 0.9842 - val_digit1_accuracy: 0.9763 - val_digit2_accuracy: 0.9736 - val_digit3_accuracy: 0.9750 - val_digit4_accuracy: 0.9850\n",
            "Epoch 27/50\n",
            "8953/8953 [==============================] - 1s 152us/step - loss: 0.2371 - digit0_loss: 0.0329 - digit1_loss: 0.0559 - digit2_loss: 0.0624 - digit3_loss: 0.0549 - digit4_loss: 0.0311 - digit0_accuracy: 0.9883 - digit1_accuracy: 0.9808 - digit2_accuracy: 0.9793 - digit3_accuracy: 0.9809 - digit4_accuracy: 0.9887 - val_loss: 0.3215 - val_digit0_loss: 0.0442 - val_digit1_loss: 0.0738 - val_digit2_loss: 0.0828 - val_digit3_loss: 0.0770 - val_digit4_loss: 0.0429 - val_digit0_accuracy: 0.9847 - val_digit1_accuracy: 0.9764 - val_digit2_accuracy: 0.9738 - val_digit3_accuracy: 0.9750 - val_digit4_accuracy: 0.9844\n",
            "Epoch 28/50\n",
            "8953/8953 [==============================] - 1s 151us/step - loss: 0.2344 - digit0_loss: 0.0322 - digit1_loss: 0.0553 - digit2_loss: 0.0619 - digit3_loss: 0.0545 - digit4_loss: 0.0305 - digit0_accuracy: 0.9883 - digit1_accuracy: 0.9808 - digit2_accuracy: 0.9791 - digit3_accuracy: 0.9811 - digit4_accuracy: 0.9891 - val_loss: 0.3256 - val_digit0_loss: 0.0448 - val_digit1_loss: 0.0757 - val_digit2_loss: 0.0846 - val_digit3_loss: 0.0759 - val_digit4_loss: 0.0437 - val_digit0_accuracy: 0.9845 - val_digit1_accuracy: 0.9760 - val_digit2_accuracy: 0.9734 - val_digit3_accuracy: 0.9757 - val_digit4_accuracy: 0.9839\n",
            "Epoch 29/50\n",
            "8953/8953 [==============================] - 1s 150us/step - loss: 0.2281 - digit0_loss: 0.0312 - digit1_loss: 0.0549 - digit2_loss: 0.0602 - digit3_loss: 0.0518 - digit4_loss: 0.0299 - digit0_accuracy: 0.9887 - digit1_accuracy: 0.9808 - digit2_accuracy: 0.9796 - digit3_accuracy: 0.9821 - digit4_accuracy: 0.9892 - val_loss: 0.3217 - val_digit0_loss: 0.0451 - val_digit1_loss: 0.0737 - val_digit2_loss: 0.0837 - val_digit3_loss: 0.0752 - val_digit4_loss: 0.0435 - val_digit0_accuracy: 0.9842 - val_digit1_accuracy: 0.9768 - val_digit2_accuracy: 0.9735 - val_digit3_accuracy: 0.9748 - val_digit4_accuracy: 0.9847\n",
            "Epoch 30/50\n",
            "8953/8953 [==============================] - 1s 151us/step - loss: 0.2211 - digit0_loss: 0.0310 - digit1_loss: 0.0521 - digit2_loss: 0.0579 - digit3_loss: 0.0509 - digit4_loss: 0.0292 - digit0_accuracy: 0.9886 - digit1_accuracy: 0.9821 - digit2_accuracy: 0.9802 - digit3_accuracy: 0.9823 - digit4_accuracy: 0.9893 - val_loss: 0.3220 - val_digit0_loss: 0.0466 - val_digit1_loss: 0.0752 - val_digit2_loss: 0.0830 - val_digit3_loss: 0.0751 - val_digit4_loss: 0.0433 - val_digit0_accuracy: 0.9843 - val_digit1_accuracy: 0.9764 - val_digit2_accuracy: 0.9729 - val_digit3_accuracy: 0.9751 - val_digit4_accuracy: 0.9852\n",
            "Epoch 31/50\n",
            "8953/8953 [==============================] - 1s 149us/step - loss: 0.2145 - digit0_loss: 0.0291 - digit1_loss: 0.0507 - digit2_loss: 0.0568 - digit3_loss: 0.0497 - digit4_loss: 0.0283 - digit0_accuracy: 0.9895 - digit1_accuracy: 0.9823 - digit2_accuracy: 0.9805 - digit3_accuracy: 0.9829 - digit4_accuracy: 0.9895 - val_loss: 0.3160 - val_digit0_loss: 0.0436 - val_digit1_loss: 0.0726 - val_digit2_loss: 0.0817 - val_digit3_loss: 0.0757 - val_digit4_loss: 0.0423 - val_digit0_accuracy: 0.9848 - val_digit1_accuracy: 0.9768 - val_digit2_accuracy: 0.9739 - val_digit3_accuracy: 0.9755 - val_digit4_accuracy: 0.9849\n",
            "Epoch 32/50\n",
            "8953/8953 [==============================] - 1s 151us/step - loss: 0.2077 - digit0_loss: 0.0283 - digit1_loss: 0.0492 - digit2_loss: 0.0545 - digit3_loss: 0.0481 - digit4_loss: 0.0277 - digit0_accuracy: 0.9896 - digit1_accuracy: 0.9830 - digit2_accuracy: 0.9814 - digit3_accuracy: 0.9829 - digit4_accuracy: 0.9898 - val_loss: 0.3195 - val_digit0_loss: 0.0459 - val_digit1_loss: 0.0735 - val_digit2_loss: 0.0822 - val_digit3_loss: 0.0752 - val_digit4_loss: 0.0431 - val_digit0_accuracy: 0.9840 - val_digit1_accuracy: 0.9769 - val_digit2_accuracy: 0.9736 - val_digit3_accuracy: 0.9760 - val_digit4_accuracy: 0.9851\n",
            "Epoch 33/50\n",
            "8953/8953 [==============================] - 1s 151us/step - loss: 0.2046 - digit0_loss: 0.0275 - digit1_loss: 0.0490 - digit2_loss: 0.0540 - digit3_loss: 0.0479 - digit4_loss: 0.0262 - digit0_accuracy: 0.9899 - digit1_accuracy: 0.9828 - digit2_accuracy: 0.9812 - digit3_accuracy: 0.9830 - digit4_accuracy: 0.9906 - val_loss: 0.3159 - val_digit0_loss: 0.0434 - val_digit1_loss: 0.0734 - val_digit2_loss: 0.0818 - val_digit3_loss: 0.0739 - val_digit4_loss: 0.0427 - val_digit0_accuracy: 0.9849 - val_digit1_accuracy: 0.9766 - val_digit2_accuracy: 0.9738 - val_digit3_accuracy: 0.9753 - val_digit4_accuracy: 0.9848\n",
            "Epoch 34/50\n",
            "8953/8953 [==============================] - 1s 152us/step - loss: 0.1976 - digit0_loss: 0.0269 - digit1_loss: 0.0465 - digit2_loss: 0.0518 - digit3_loss: 0.0459 - digit4_loss: 0.0266 - digit0_accuracy: 0.9902 - digit1_accuracy: 0.9837 - digit2_accuracy: 0.9823 - digit3_accuracy: 0.9838 - digit4_accuracy: 0.9903 - val_loss: 0.3167 - val_digit0_loss: 0.0448 - val_digit1_loss: 0.0725 - val_digit2_loss: 0.0814 - val_digit3_loss: 0.0746 - val_digit4_loss: 0.0425 - val_digit0_accuracy: 0.9849 - val_digit1_accuracy: 0.9769 - val_digit2_accuracy: 0.9736 - val_digit3_accuracy: 0.9758 - val_digit4_accuracy: 0.9850\n",
            "Epoch 35/50\n",
            "8953/8953 [==============================] - 1s 151us/step - loss: 0.1961 - digit0_loss: 0.0269 - digit1_loss: 0.0470 - digit2_loss: 0.0513 - digit3_loss: 0.0446 - digit4_loss: 0.0262 - digit0_accuracy: 0.9901 - digit1_accuracy: 0.9837 - digit2_accuracy: 0.9821 - digit3_accuracy: 0.9842 - digit4_accuracy: 0.9902 - val_loss: 0.3137 - val_digit0_loss: 0.0442 - val_digit1_loss: 0.0716 - val_digit2_loss: 0.0821 - val_digit3_loss: 0.0740 - val_digit4_loss: 0.0418 - val_digit0_accuracy: 0.9853 - val_digit1_accuracy: 0.9773 - val_digit2_accuracy: 0.9730 - val_digit3_accuracy: 0.9755 - val_digit4_accuracy: 0.9856\n",
            "Epoch 36/50\n",
            "8953/8953 [==============================] - 1s 153us/step - loss: 0.1916 - digit0_loss: 0.0264 - digit1_loss: 0.0457 - digit2_loss: 0.0502 - digit3_loss: 0.0442 - digit4_loss: 0.0252 - digit0_accuracy: 0.9904 - digit1_accuracy: 0.9837 - digit2_accuracy: 0.9824 - digit3_accuracy: 0.9844 - digit4_accuracy: 0.9908 - val_loss: 0.3130 - val_digit0_loss: 0.0438 - val_digit1_loss: 0.0731 - val_digit2_loss: 0.0820 - val_digit3_loss: 0.0741 - val_digit4_loss: 0.0416 - val_digit0_accuracy: 0.9849 - val_digit1_accuracy: 0.9770 - val_digit2_accuracy: 0.9734 - val_digit3_accuracy: 0.9758 - val_digit4_accuracy: 0.9854\n",
            "Epoch 37/50\n",
            "8953/8953 [==============================] - 1s 152us/step - loss: 0.1851 - digit0_loss: 0.0251 - digit1_loss: 0.0449 - digit2_loss: 0.0485 - digit3_loss: 0.0426 - digit4_loss: 0.0240 - digit0_accuracy: 0.9908 - digit1_accuracy: 0.9841 - digit2_accuracy: 0.9831 - digit3_accuracy: 0.9848 - digit4_accuracy: 0.9914 - val_loss: 0.3149 - val_digit0_loss: 0.0455 - val_digit1_loss: 0.0720 - val_digit2_loss: 0.0825 - val_digit3_loss: 0.0733 - val_digit4_loss: 0.0424 - val_digit0_accuracy: 0.9850 - val_digit1_accuracy: 0.9771 - val_digit2_accuracy: 0.9736 - val_digit3_accuracy: 0.9755 - val_digit4_accuracy: 0.9854\n",
            "Epoch 38/50\n",
            "8953/8953 [==============================] - 1s 150us/step - loss: 0.1817 - digit0_loss: 0.0249 - digit1_loss: 0.0429 - digit2_loss: 0.0475 - digit3_loss: 0.0422 - digit4_loss: 0.0242 - digit0_accuracy: 0.9907 - digit1_accuracy: 0.9846 - digit2_accuracy: 0.9835 - digit3_accuracy: 0.9852 - digit4_accuracy: 0.9911 - val_loss: 0.3156 - val_digit0_loss: 0.0449 - val_digit1_loss: 0.0732 - val_digit2_loss: 0.0830 - val_digit3_loss: 0.0732 - val_digit4_loss: 0.0423 - val_digit0_accuracy: 0.9849 - val_digit1_accuracy: 0.9763 - val_digit2_accuracy: 0.9739 - val_digit3_accuracy: 0.9758 - val_digit4_accuracy: 0.9853\n",
            "Epoch 39/50\n",
            "8953/8953 [==============================] - 1s 151us/step - loss: 0.1781 - digit0_loss: 0.0237 - digit1_loss: 0.0425 - digit2_loss: 0.0470 - digit3_loss: 0.0411 - digit4_loss: 0.0236 - digit0_accuracy: 0.9913 - digit1_accuracy: 0.9849 - digit2_accuracy: 0.9836 - digit3_accuracy: 0.9853 - digit4_accuracy: 0.9915 - val_loss: 0.3146 - val_digit0_loss: 0.0441 - val_digit1_loss: 0.0730 - val_digit2_loss: 0.0825 - val_digit3_loss: 0.0744 - val_digit4_loss: 0.0414 - val_digit0_accuracy: 0.9857 - val_digit1_accuracy: 0.9765 - val_digit2_accuracy: 0.9734 - val_digit3_accuracy: 0.9757 - val_digit4_accuracy: 0.9856\n",
            "Epoch 40/50\n",
            "8953/8953 [==============================] - 1s 150us/step - loss: 0.1734 - digit0_loss: 0.0241 - digit1_loss: 0.0411 - digit2_loss: 0.0464 - digit3_loss: 0.0392 - digit4_loss: 0.0226 - digit0_accuracy: 0.9911 - digit1_accuracy: 0.9854 - digit2_accuracy: 0.9838 - digit3_accuracy: 0.9861 - digit4_accuracy: 0.9917 - val_loss: 0.3118 - val_digit0_loss: 0.0426 - val_digit1_loss: 0.0727 - val_digit2_loss: 0.0817 - val_digit3_loss: 0.0733 - val_digit4_loss: 0.0420 - val_digit0_accuracy: 0.9857 - val_digit1_accuracy: 0.9773 - val_digit2_accuracy: 0.9739 - val_digit3_accuracy: 0.9758 - val_digit4_accuracy: 0.9856\n",
            "Epoch 41/50\n",
            "8953/8953 [==============================] - 1s 151us/step - loss: 0.1701 - digit0_loss: 0.0232 - digit1_loss: 0.0404 - digit2_loss: 0.0443 - digit3_loss: 0.0394 - digit4_loss: 0.0227 - digit0_accuracy: 0.9916 - digit1_accuracy: 0.9856 - digit2_accuracy: 0.9843 - digit3_accuracy: 0.9857 - digit4_accuracy: 0.9915 - val_loss: 0.3150 - val_digit0_loss: 0.0455 - val_digit1_loss: 0.0727 - val_digit2_loss: 0.0819 - val_digit3_loss: 0.0743 - val_digit4_loss: 0.0418 - val_digit0_accuracy: 0.9851 - val_digit1_accuracy: 0.9774 - val_digit2_accuracy: 0.9741 - val_digit3_accuracy: 0.9756 - val_digit4_accuracy: 0.9855\n",
            "Epoch 42/50\n",
            "8953/8953 [==============================] - 1s 152us/step - loss: 0.1655 - digit0_loss: 0.0223 - digit1_loss: 0.0400 - digit2_loss: 0.0432 - digit3_loss: 0.0386 - digit4_loss: 0.0213 - digit0_accuracy: 0.9918 - digit1_accuracy: 0.9858 - digit2_accuracy: 0.9848 - digit3_accuracy: 0.9861 - digit4_accuracy: 0.9922 - val_loss: 0.3151 - val_digit0_loss: 0.0470 - val_digit1_loss: 0.0724 - val_digit2_loss: 0.0821 - val_digit3_loss: 0.0733 - val_digit4_loss: 0.0423 - val_digit0_accuracy: 0.9845 - val_digit1_accuracy: 0.9773 - val_digit2_accuracy: 0.9737 - val_digit3_accuracy: 0.9761 - val_digit4_accuracy: 0.9859\n",
            "Epoch 43/50\n",
            "8953/8953 [==============================] - 1s 154us/step - loss: 0.1641 - digit0_loss: 0.0226 - digit1_loss: 0.0381 - digit2_loss: 0.0432 - digit3_loss: 0.0378 - digit4_loss: 0.0223 - digit0_accuracy: 0.9917 - digit1_accuracy: 0.9863 - digit2_accuracy: 0.9846 - digit3_accuracy: 0.9864 - digit4_accuracy: 0.9919 - val_loss: 0.3135 - val_digit0_loss: 0.0436 - val_digit1_loss: 0.0725 - val_digit2_loss: 0.0828 - val_digit3_loss: 0.0736 - val_digit4_loss: 0.0425 - val_digit0_accuracy: 0.9854 - val_digit1_accuracy: 0.9773 - val_digit2_accuracy: 0.9736 - val_digit3_accuracy: 0.9758 - val_digit4_accuracy: 0.9854\n",
            "Epoch 44/50\n",
            "8953/8953 [==============================] - 1s 155us/step - loss: 0.1586 - digit0_loss: 0.0218 - digit1_loss: 0.0377 - digit2_loss: 0.0411 - digit3_loss: 0.0369 - digit4_loss: 0.0211 - digit0_accuracy: 0.9919 - digit1_accuracy: 0.9864 - digit2_accuracy: 0.9854 - digit3_accuracy: 0.9868 - digit4_accuracy: 0.9923 - val_loss: 0.3177 - val_digit0_loss: 0.0453 - val_digit1_loss: 0.0743 - val_digit2_loss: 0.0821 - val_digit3_loss: 0.0746 - val_digit4_loss: 0.0426 - val_digit0_accuracy: 0.9854 - val_digit1_accuracy: 0.9767 - val_digit2_accuracy: 0.9741 - val_digit3_accuracy: 0.9759 - val_digit4_accuracy: 0.9855\n",
            "Epoch 45/50\n",
            "8953/8953 [==============================] - 1s 153us/step - loss: 0.1582 - digit0_loss: 0.0223 - digit1_loss: 0.0373 - digit2_loss: 0.0417 - digit3_loss: 0.0359 - digit4_loss: 0.0209 - digit0_accuracy: 0.9917 - digit1_accuracy: 0.9867 - digit2_accuracy: 0.9851 - digit3_accuracy: 0.9871 - digit4_accuracy: 0.9923 - val_loss: 0.3151 - val_digit0_loss: 0.0461 - val_digit1_loss: 0.0720 - val_digit2_loss: 0.0823 - val_digit3_loss: 0.0752 - val_digit4_loss: 0.0405 - val_digit0_accuracy: 0.9845 - val_digit1_accuracy: 0.9769 - val_digit2_accuracy: 0.9737 - val_digit3_accuracy: 0.9759 - val_digit4_accuracy: 0.9857\n",
            "Epoch 46/50\n",
            "8953/8953 [==============================] - 1s 150us/step - loss: 0.1559 - digit0_loss: 0.0214 - digit1_loss: 0.0375 - digit2_loss: 0.0402 - digit3_loss: 0.0360 - digit4_loss: 0.0206 - digit0_accuracy: 0.9919 - digit1_accuracy: 0.9865 - digit2_accuracy: 0.9855 - digit3_accuracy: 0.9871 - digit4_accuracy: 0.9925 - val_loss: 0.3186 - val_digit0_loss: 0.0460 - val_digit1_loss: 0.0733 - val_digit2_loss: 0.0821 - val_digit3_loss: 0.0748 - val_digit4_loss: 0.0423 - val_digit0_accuracy: 0.9842 - val_digit1_accuracy: 0.9778 - val_digit2_accuracy: 0.9744 - val_digit3_accuracy: 0.9756 - val_digit4_accuracy: 0.9853\n",
            "Epoch 47/50\n",
            "8953/8953 [==============================] - 1s 152us/step - loss: 0.1531 - digit0_loss: 0.0212 - digit1_loss: 0.0356 - digit2_loss: 0.0403 - digit3_loss: 0.0353 - digit4_loss: 0.0207 - digit0_accuracy: 0.9924 - digit1_accuracy: 0.9870 - digit2_accuracy: 0.9856 - digit3_accuracy: 0.9871 - digit4_accuracy: 0.9923 - val_loss: 0.3161 - val_digit0_loss: 0.0461 - val_digit1_loss: 0.0733 - val_digit2_loss: 0.0823 - val_digit3_loss: 0.0745 - val_digit4_loss: 0.0419 - val_digit0_accuracy: 0.9845 - val_digit1_accuracy: 0.9775 - val_digit2_accuracy: 0.9736 - val_digit3_accuracy: 0.9754 - val_digit4_accuracy: 0.9855\n",
            "Epoch 48/50\n",
            "8953/8953 [==============================] - 1s 149us/step - loss: 0.1508 - digit0_loss: 0.0209 - digit1_loss: 0.0357 - digit2_loss: 0.0393 - digit3_loss: 0.0347 - digit4_loss: 0.0201 - digit0_accuracy: 0.9924 - digit1_accuracy: 0.9873 - digit2_accuracy: 0.9859 - digit3_accuracy: 0.9876 - digit4_accuracy: 0.9926 - val_loss: 0.3141 - val_digit0_loss: 0.0451 - val_digit1_loss: 0.0727 - val_digit2_loss: 0.0814 - val_digit3_loss: 0.0744 - val_digit4_loss: 0.0424 - val_digit0_accuracy: 0.9849 - val_digit1_accuracy: 0.9772 - val_digit2_accuracy: 0.9743 - val_digit3_accuracy: 0.9759 - val_digit4_accuracy: 0.9852\n",
            "Epoch 49/50\n",
            "8953/8953 [==============================] - 1s 151us/step - loss: 0.1494 - digit0_loss: 0.0205 - digit1_loss: 0.0354 - digit2_loss: 0.0386 - digit3_loss: 0.0341 - digit4_loss: 0.0208 - digit0_accuracy: 0.9924 - digit1_accuracy: 0.9872 - digit2_accuracy: 0.9862 - digit3_accuracy: 0.9875 - digit4_accuracy: 0.9923 - val_loss: 0.3186 - val_digit0_loss: 0.0454 - val_digit1_loss: 0.0759 - val_digit2_loss: 0.0821 - val_digit3_loss: 0.0759 - val_digit4_loss: 0.0408 - val_digit0_accuracy: 0.9843 - val_digit1_accuracy: 0.9768 - val_digit2_accuracy: 0.9736 - val_digit3_accuracy: 0.9751 - val_digit4_accuracy: 0.9853\n",
            "Epoch 50/50\n",
            "8953/8953 [==============================] - 1s 150us/step - loss: 0.1465 - digit0_loss: 0.0202 - digit1_loss: 0.0348 - digit2_loss: 0.0379 - digit3_loss: 0.0336 - digit4_loss: 0.0200 - digit0_accuracy: 0.9927 - digit1_accuracy: 0.9874 - digit2_accuracy: 0.9865 - digit3_accuracy: 0.9879 - digit4_accuracy: 0.9927 - val_loss: 0.3141 - val_digit0_loss: 0.0450 - val_digit1_loss: 0.0741 - val_digit2_loss: 0.0806 - val_digit3_loss: 0.0751 - val_digit4_loss: 0.0402 - val_digit0_accuracy: 0.9844 - val_digit1_accuracy: 0.9770 - val_digit2_accuracy: 0.9742 - val_digit3_accuracy: 0.9754 - val_digit4_accuracy: 0.9854\n"
          ],
          "name": "stdout"
        }
      ]
    },
    {
      "cell_type": "code",
      "metadata": {
        "id": "PK5FjnNp63eL",
        "colab_type": "code",
        "colab": {}
      },
      "source": [
        "digit_acc = [[] for _ in range(NUM_OF_LETTERS)]\n",
        "val_digit_acc = [[] for _ in range(NUM_OF_LETTERS)]\n",
        "loss = []\n",
        "val_loss = []\n",
        "\n",
        "\n",
        "def plot_diagram(digit_acc_now, val_digit_acc_now, loss_now, val_loss_now):\n",
        "    global digit_acc, val_digit_acc, loss, val_loss\n",
        "    \n",
        "    \n",
        "    for i in range(NUM_OF_LETTERS):\n",
        "        digit_acc[i].extend(digit_acc_now[i])\n",
        "        val_digit_acc[i].extend(val_digit_acc_now[i])\n",
        "    loss.extend(loss_now)\n",
        "    val_loss.extend(val_loss_now)\n",
        "    \n",
        "    for i in range(NUM_OF_LETTERS):\n",
        "        s = {0:'First', 1:'Second', 2:'Third', 3:'Fourth', 4:'Fifth'}[i]\n",
        "        # plt.plot(val_digit_acc[i], label='%s Digit Train' % s)\n",
        "        plt.plot(digit_acc[i], label='%s Digit Test' % s)\n",
        "\n",
        "    plt.title('Model accuracy')\n",
        "    plt.ylabel('Accuracy')\n",
        "    plt.xlabel('Epoch')\n",
        "    plt.legend()\n",
        "    plt.show()\n",
        "\n",
        "    for i in range(NUM_OF_LETTERS):\n",
        "        s = {0:'First', 1:'Second', 2:'Third', 3:'Fourth', 4:'Fifth'}[i]\n",
        "        plt.plot(val_digit_acc[i], label='%s Digit Train' % s)\n",
        "        # plt.plot(digit_acc[i], label='%s Digit Test' % s)\n",
        "\n",
        "    plt.title('Model accuracy')\n",
        "    plt.ylabel('Accuracy')\n",
        "    plt.xlabel('Epoch')\n",
        "    plt.legend()\n",
        "    plt.show()\n",
        "\n",
        "\n",
        "\n",
        "    # Plot training & validation loss values\n",
        "    \n",
        "    plt.plot(val_loss, label='Train')\n",
        "    plt.plot(loss, label='Test')\n",
        "    plt.title('Model loss')\n",
        "    plt.ylabel('Loss')\n",
        "    plt.xlabel('Epoch')\n",
        "    plt.legend()\n",
        "    plt.show()"
      ],
      "execution_count": 16,
      "outputs": []
    },
    {
      "cell_type": "code",
      "metadata": {
        "id": "gmz3c1Ve8xG1",
        "colab_type": "code",
        "colab": {
          "base_uri": "https://localhost:8080/",
          "height": 851
        },
        "outputId": "746b74b1-02a1-43eb-d7f5-a094234f55e3"
      },
      "source": [
        "plot_diagram(\n",
        "    \n",
        "    [history.history['digit%d_accuracy' % i] for i in range(NUM_OF_LETTERS)],\n",
        "    [history.history['val_digit%d_accuracy' % i] for i in range(NUM_OF_LETTERS)],\n",
        "    history.history['loss'],\n",
        "    history.history['val_loss'],\n",
        ")"
      ],
      "execution_count": 17,
      "outputs": [
        {
          "output_type": "display_data",
          "data": {
            "image/png": "[encoded data removed]",
            "text/plain": [
              "<Figure size 432x288 with 1 Axes>"
            ]
          },
          "metadata": {
            "tags": [],
            "needs_background": "light"
          }
        },
        {
          "output_type": "display_data",
          "data": {
            "image/png": "[encoded data removed]",
            "text/plain": [
              "<Figure size 432x288 with 1 Axes>"
            ]
          },
          "metadata": {
            "tags": [],
            "needs_background": "light"
          }
        },
        {
          "output_type": "display_data",
          "data": {
            "image/png": "[encoded data removed]",
            "text/plain": [
              "<Figure size 432x288 with 1 Axes>"
            ]
          },
          "metadata": {
            "tags": [],
            "needs_background": "light"
          }
        }
      ]
    },
    {
      "cell_type": "code",
      "metadata": {
        "id": "MQIbUVBY6-SG",
        "colab_type": "code",
        "colab": {
          "base_uri": "https://localhost:8080/",
          "height": 35
        },
        "outputId": "26fe21c3-aeb8-42a5-b5bf-4058be42d516"
      },
      "source": [
        "# Save model and weights\n",
        "if not os.path.isdir(save_dir):\n",
        "    os.makedirs(save_dir)\n",
        "model_path = os.path.join(save_dir, model_name)\n",
        "model.save(model_path)\n",
        "print('Saved trained model at %s ' % model_path)"
      ],
      "execution_count": 19,
      "outputs": [
        {
          "output_type": "stream",
          "text": [
            "Saved trained model at /content/saved_models/keras_cifar10_trained_model.h5 \n"
          ],
          "name": "stdout"
        }
      ]
    },
    {
      "cell_type": "code",
      "metadata": {
        "id": "x8cshRKD7Bak",
        "colab_type": "code",
        "colab": {
          "base_uri": "https://localhost:8080/",
          "height": 70
        },
        "outputId": "e09d242b-a39f-4d4f-f289-5d5c8e0fe62e"
      },
      "source": [
        "# Score trained model.\n",
        "scores = model.evaluate(x_train, s_train, verbose=1)\n",
        "print('Train loss:     %f' % np.mean(scores[0:5]))\n",
        "acc = 1.\n",
        "for i in range(5):\n",
        "    acc *= scores[6+i]\n",
        "print('Train accuracy: %.2f' % (acc * 100.))"
      ],
      "execution_count": 20,
      "outputs": [
        {
          "output_type": "stream",
          "text": [
            "8953/8953 [==============================] - 2s 169us/step\n",
            "Train loss:     0.014435\n",
            "Train accuracy: 99.20\n"
          ],
          "name": "stdout"
        }
      ]
    },
    {
      "cell_type": "code",
      "metadata": {
        "id": "yfQ_5Ago7EWh",
        "colab_type": "code",
        "colab": {
          "base_uri": "https://localhost:8080/",
          "height": 70
        },
        "outputId": "19d26d76-4ef6-4d67-f0da-b56442076319"
      },
      "source": [
        "scores = model.evaluate(x_test, s_test, verbose=1)\n",
        "print('Test loss:     %f' % np.mean(scores[0:5]))\n",
        "acc = 1.\n",
        "for i in range(5):\n",
        "    acc *= scores[6+i]\n",
        "print('Test accuracy: %.2f' % (acc * 100.))"
      ],
      "execution_count": 21,
      "outputs": [
        {
          "output_type": "stream",
          "text": [
            "1047/1047 [==============================] - 0s 160us/step\n",
            "Test loss:     0.117577\n",
            "Test accuracy: 90.06\n"
          ],
          "name": "stdout"
        }
      ]
    }
  ]
}