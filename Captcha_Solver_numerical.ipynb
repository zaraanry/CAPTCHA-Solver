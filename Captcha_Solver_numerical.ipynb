{
  "nbformat": 4,
  "nbformat_minor": 0,
  "metadata": {
    "colab": {
      "name": "Captcha_Solver_numerical.ipynb",
      "provenance": [],
      "collapsed_sections": []
    },
    "kernelspec": {
      "name": "python3",
      "display_name": "Python 3"
    },
    "accelerator": "GPU"
  },
  "cells": [
    {
      "cell_type": "code",
      "metadata": {
        "id": "6Tzheb9xoLiD",
        "colab_type": "code",
        "colab": {
          "base_uri": "https://localhost:8080/",
          "height": 1000
        },
        "outputId": "ccb08657-9331-49e3-bb2c-9cce0fda919f"
      },
      "source": [
        "%pip install captcha \n",
        "%pip install opencv-python\n",
        "!apt update && apt install -y libsm6 libxext6\n",
        "!pip install opencv-python-headless\n",
        "!pip install opencv-contrib-python-headless\n",
        "%pip install keras\n",
        "\n",
        "\n",
        "import argparse\n",
        "import json\n",
        "import string\n",
        "import os\n",
        "import shutil\n",
        "import uuid\n",
        "from captcha.image import ImageCaptcha\n",
        "\n",
        "import itertools\n",
        "\n",
        "import os\n",
        "import cv2\n",
        "import numpy as np\n",
        "from random import random, randint, choices\n",
        "\n",
        "import keras\n",
        "from keras.models import Sequential, Model\n",
        "from keras.layers import Dense, Dropout, Activation, Flatten\n",
        "from keras.layers import Conv2D, MaxPooling2D, Input\n",
        "import matplotlib.pyplot as plt"
      ],
      "execution_count": 1,
      "outputs": [
        {
          "output_type": "stream",
          "text": [
            "Collecting captcha\n",
            "\u001b[?25l  Downloading https://files.pythonhosted.org/packages/90/fe/d4ddf1e6576073b5eaea76e9b2afa022c626212a30c871968480be3ccb7b/captcha-0.3-py3-none-any.whl (101kB)\n",
            "\r\u001b[K     |███▎                            | 10kB 22.3MB/s eta 0:00:01\r\u001b[K     |██████▌                         | 20kB 9.3MB/s eta 0:00:01\r\u001b[K     |█████████▊                      | 30kB 7.6MB/s eta 0:00:01\r\u001b[K     |█████████████                   | 40kB 8.5MB/s eta 0:00:01\r\u001b[K     |████████████████▏               | 51kB 7.3MB/s eta 0:00:01\r\u001b[K     |███████████████████▍            | 61kB 7.6MB/s eta 0:00:01\r\u001b[K     |██████████████████████▋         | 71kB 7.3MB/s eta 0:00:01\r\u001b[K     |█████████████████████████▉      | 81kB 7.6MB/s eta 0:00:01\r\u001b[K     |█████████████████████████████   | 92kB 8.0MB/s eta 0:00:01\r\u001b[K     |████████████████████████████████| 102kB 5.2MB/s \n",
            "\u001b[?25hRequirement already satisfied: Pillow in /usr/local/lib/python3.6/dist-packages (from captcha) (7.0.0)\n",
            "Installing collected packages: captcha\n",
            "Successfully installed captcha-0.3\n",
            "Requirement already satisfied: opencv-python in /usr/local/lib/python3.6/dist-packages (4.1.2.30)\n",
            "Requirement already satisfied: numpy>=1.11.3 in /usr/local/lib/python3.6/dist-packages (from opencv-python) (1.18.5)\n",
            "Get:1 https://cloud.r-project.org/bin/linux/ubuntu bionic-cran35/ InRelease [3,626 B]\n",
            "Ign:2 https://developer.download.nvidia.com/compute/cuda/repos/ubuntu1804/x86_64  InRelease\n",
            "Ign:3 https://developer.download.nvidia.com/compute/machine-learning/repos/ubuntu1804/x86_64  InRelease\n",
            "Hit:4 https://developer.download.nvidia.com/compute/cuda/repos/ubuntu1804/x86_64  Release\n",
            "Hit:5 http://ppa.launchpad.net/graphics-drivers/ppa/ubuntu bionic InRelease\n",
            "Hit:6 https://developer.download.nvidia.com/compute/machine-learning/repos/ubuntu1804/x86_64  Release\n",
            "Get:7 http://security.ubuntu.com/ubuntu bionic-security InRelease [88.7 kB]\n",
            "Hit:9 http://archive.ubuntu.com/ubuntu bionic InRelease\n",
            "Get:10 http://archive.ubuntu.com/ubuntu bionic-updates InRelease [88.7 kB]\n",
            "Get:11 http://ppa.launchpad.net/marutter/c2d4u3.5/ubuntu bionic InRelease [15.4 kB]\n",
            "Get:13 http://archive.ubuntu.com/ubuntu bionic-backports InRelease [74.6 kB]\n",
            "Get:14 http://ppa.launchpad.net/marutter/c2d4u3.5/ubuntu bionic/main Sources [1,853 kB]\n",
            "Get:15 http://archive.ubuntu.com/ubuntu bionic-updates/restricted amd64 Packages [116 kB]\n",
            "Get:16 http://archive.ubuntu.com/ubuntu bionic-updates/universe amd64 Packages [1,413 kB]\n",
            "Get:17 http://archive.ubuntu.com/ubuntu bionic-updates/multiverse amd64 Packages [27.1 kB]\n",
            "Get:18 http://archive.ubuntu.com/ubuntu bionic-updates/main amd64 Packages [1,334 kB]\n",
            "Get:19 http://ppa.launchpad.net/marutter/c2d4u3.5/ubuntu bionic/main amd64 Packages [894 kB]\n",
            "Fetched 5,909 kB in 5s (1,134 kB/s)\n",
            "Reading package lists... Done\n",
            "Building dependency tree       \n",
            "Reading state information... Done\n",
            "38 packages can be upgraded. Run 'apt list --upgradable' to see them.\n",
            "Reading package lists... Done\n",
            "Building dependency tree       \n",
            "Reading state information... Done\n",
            "libsm6 is already the newest version (2:1.2.2-1).\n",
            "libxext6 is already the newest version (2:1.3.3-1).\n",
            "The following package was automatically installed and is no longer required:\n",
            "  libnvidia-common-440\n",
            "Use 'apt autoremove' to remove it.\n",
            "0 upgraded, 0 newly installed, 0 to remove and 38 not upgraded.\n",
            "Collecting opencv-python-headless\n",
            "\u001b[?25l  Downloading https://files.pythonhosted.org/packages/17/e4/a98a3c3098ea55b6ae193a1cd19a221dc3c1bde87a36db5550addc879d36/opencv_python_headless-4.3.0.36-cp36-cp36m-manylinux2014_x86_64.whl (36.4MB)\n",
            "\u001b[K     |████████████████████████████████| 36.4MB 77kB/s \n",
            "\u001b[?25hRequirement already satisfied: numpy>=1.11.3 in /usr/local/lib/python3.6/dist-packages (from opencv-python-headless) (1.18.5)\n",
            "Installing collected packages: opencv-python-headless\n",
            "Successfully installed opencv-python-headless-4.3.0.36\n",
            "Collecting opencv-contrib-python-headless\n",
            "\u001b[?25l  Downloading https://files.pythonhosted.org/packages/a1/90/b2982491b86fc8f39153162da5775081361ce731156df9a248c55396c5c8/opencv_contrib_python_headless-4.3.0.36-cp36-cp36m-manylinux2014_x86_64.whl (42.6MB)\n",
            "\u001b[K     |████████████████████████████████| 42.6MB 72kB/s \n",
            "\u001b[?25hRequirement already satisfied: numpy>=1.11.3 in /usr/local/lib/python3.6/dist-packages (from opencv-contrib-python-headless) (1.18.5)\n",
            "Installing collected packages: opencv-contrib-python-headless\n",
            "Successfully installed opencv-contrib-python-headless-4.3.0.36\n",
            "Requirement already satisfied: keras in /usr/local/lib/python3.6/dist-packages (2.3.1)\n",
            "Requirement already satisfied: six>=1.9.0 in /usr/local/lib/python3.6/dist-packages (from keras) (1.15.0)\n",
            "Requirement already satisfied: numpy>=1.9.1 in /usr/local/lib/python3.6/dist-packages (from keras) (1.18.5)\n",
            "Requirement already satisfied: keras-applications>=1.0.6 in /usr/local/lib/python3.6/dist-packages (from keras) (1.0.8)\n",
            "Requirement already satisfied: pyyaml in /usr/local/lib/python3.6/dist-packages (from keras) (3.13)\n",
            "Requirement already satisfied: keras-preprocessing>=1.0.5 in /usr/local/lib/python3.6/dist-packages (from keras) (1.1.2)\n",
            "Requirement already satisfied: scipy>=0.14 in /usr/local/lib/python3.6/dist-packages (from keras) (1.4.1)\n",
            "Requirement already satisfied: h5py in /usr/local/lib/python3.6/dist-packages (from keras) (2.10.0)\n"
          ],
          "name": "stdout"
        },
        {
          "output_type": "stream",
          "text": [
            "Using TensorFlow backend.\n"
          ],
          "name": "stderr"
        }
      ]
    },
    {
      "cell_type": "code",
      "metadata": {
        "id": "yuX06GVdok0-",
        "colab_type": "code",
        "colab": {}
      },
      "source": [
        "def _gen_captcha(img_dir, num_of_letters, num_of_repetition, width, height):\n",
        "    if os.path.exists(img_dir):\n",
        "        shutil.rmtree(img_dir)\n",
        "    if not os.path.exists(img_dir):\n",
        "        os.makedirs(img_dir)\n",
        "\n",
        "    image = ImageCaptcha(width=width, height=height)\n",
        "\n",
        "    for counter in range(num_of_repetition):\n",
        "        print('generating %d/%d' % (counter + 1, num_of_repetition))\n",
        "        for i in itertools.permutations([str(c) for c in range(10)], num_of_letters):\n",
        "            captcha = ''.join(i)\n",
        "            fn = os.path.join(img_dir, '%s_%s.png' % (captcha, uuid.uuid4()))\n",
        "            image.write(captcha, fn)\n",
        "\n",
        "\n",
        "def gen_dataset(path, num_of_repetition, num_of_letters, width, height):\n",
        "    _gen_captcha(os.path.join(path, 'data'), num_of_letters, num_of_repetition, width, height)\n",
        "    print('Finished Data Generation')"
      ],
      "execution_count": 2,
      "outputs": []
    },
    {
      "cell_type": "code",
      "metadata": {
        "id": "MQYOsJyioy5g",
        "colab_type": "code",
        "colab": {}
      },
      "source": [
        "BATCH_SIZE = 128\n",
        "NUM_OF_LETTERS = 5\n",
        "EPOCHS = 50\n",
        "IMG_ROW, IMG_COLS = 50, 135\n",
        "\n",
        "\n",
        "# Non-configs\n",
        "PATH = os.getcwd()\n",
        "DATA_PATH = os.path.join(PATH, 'train')"
      ],
      "execution_count": 3,
      "outputs": []
    },
    {
      "cell_type": "code",
      "metadata": {
        "id": "ItSQ3uTvo5YW",
        "colab_type": "code",
        "colab": {}
      },
      "source": [
        "def load_data(path, test_split=0.1):\n",
        "    print ('loading dataset...')\n",
        "    y_train = []\n",
        "    y_test = []\n",
        "    x_train = []\n",
        "    x_test = []\n",
        "\n",
        "    # r=root, d=directories, f = files\n",
        "    counter = 0\n",
        "    for r, d, f in os.walk(path):\n",
        "        for fl in f:\n",
        "            if '.png' in fl:\n",
        "                flr = fl.split('_')[0]\n",
        "                counter += 1\n",
        "                label = np.zeros((NUM_OF_LETTERS, 10))\n",
        "                for i in range(NUM_OF_LETTERS):\n",
        "                    label[i, int(flr[i])] = 1\n",
        "\n",
        "                img = cv2.imread(os.path.join(r, fl))\n",
        "                img = cv2.cvtColor(img, cv2.COLOR_BGR2GRAY)\n",
        "                img = cv2.resize(img, (int(135/2), int(50/2)), interpolation=cv2.INTER_AREA)\n",
        "                img = np.reshape(img, (img.shape[0], img.shape[1], 1))\n",
        "\n",
        "                if random() < test_split:\n",
        "                    y_test.append(label)\n",
        "                    x_test.append(img)\n",
        "                else:\n",
        "                    y_train.append(label)\n",
        "                    x_train.append(img)\n",
        "\n",
        "    print('dataset size:', counter, '(train=%d, test=%d)' % (len(y_train), len(y_test)))\n",
        "    return np.array(x_train), np.array(y_train), np.array(x_test), np.array(y_test)\n"
      ],
      "execution_count": 4,
      "outputs": []
    },
    {
      "cell_type": "code",
      "metadata": {
        "id": "bCqtzWWvo798",
        "colab_type": "code",
        "colab": {
          "base_uri": "https://localhost:8080/",
          "height": 70
        },
        "outputId": "d668ac3e-c0c0-435f-d688-789aa49a5212"
      },
      "source": [
        "if not os.path.exists(DATA_PATH):\n",
        "    print('Generating Dataset')\n",
        "    gen_dataset(DATA_PATH, 8 , NUM_OF_LETTERS, IMG_COLS, IMG_ROW)"
      ],
      "execution_count": 5,
      "outputs": [
        {
          "output_type": "stream",
          "text": [
            "Generating Dataset\n",
            "generating 1/1\n",
            "Finished Data Generation\n"
          ],
          "name": "stdout"
        }
      ]
    },
    {
      "cell_type": "code",
      "metadata": {
        "id": "AenCMkmco-jv",
        "colab_type": "code",
        "colab": {
          "base_uri": "https://localhost:8080/",
          "height": 52
        },
        "outputId": "25cfddd7-6be1-421f-ba54-fe524c90c115"
      },
      "source": [
        "x_train, y_train, x_test, y_test = load_data(DATA_PATH)\n",
        "x_train = x_train.astype('float32')\n",
        "x_test = x_test.astype('float32')\n",
        "x_train /= 255\n",
        "x_test /= 255"
      ],
      "execution_count": 6,
      "outputs": [
        {
          "output_type": "stream",
          "text": [
            "loading dataset...\n",
            "dataset size: 30240 (train=27133, test=3107)\n"
          ],
          "name": "stdout"
        }
      ]
    },
    {
      "cell_type": "code",
      "metadata": {
        "id": "zqV-rssUuhIy",
        "colab_type": "code",
        "colab": {
          "base_uri": "https://localhost:8080/",
          "height": 88
        },
        "outputId": "578dcd3f-95af-45f9-9601-e8d86cca9cd6"
      },
      "source": [
        "print(x_train.shape)\n",
        "print(y_train.shape)\n",
        "print(x_test.shape)\n",
        "print(y_test.shape)"
      ],
      "execution_count": 7,
      "outputs": [
        {
          "output_type": "stream",
          "text": [
            "(27133, 25, 67, 1)\n",
            "(27133, 5, 10)\n",
            "(3107, 25, 67, 1)\n",
            "(3107, 5, 10)\n"
          ],
          "name": "stdout"
        }
      ]
    },
    {
      "cell_type": "code",
      "metadata": {
        "id": "eASawvTyvMaL",
        "colab_type": "code",
        "colab": {}
      },
      "source": [
        "s_train = []\n",
        "s_test = []\n",
        "for i in range(NUM_OF_LETTERS):\n",
        "    s_train.append(y_train[:, i, :])\n",
        "    s_test.append(y_test[:, i, :])"
      ],
      "execution_count": 8,
      "outputs": []
    },
    {
      "cell_type": "code",
      "metadata": {
        "id": "DCom2NFKvVF0",
        "colab_type": "code",
        "colab": {}
      },
      "source": [
        "save_dir = os.path.join(PATH, 'saved_models')\n",
        "model_name = 'keras_cifar10_trained_model.h5'"
      ],
      "execution_count": 9,
      "outputs": []
    },
    {
      "cell_type": "code",
      "metadata": {
        "id": "XS0vWhEuvXgo",
        "colab_type": "code",
        "colab": {}
      },
      "source": [
        "input_layer = Input((25, 67, 1))\n",
        "x = Conv2D(filters=32, kernel_size=(5, 5), padding='same', activation='relu')(input_layer)\n",
        "x = MaxPooling2D(pool_size=(2, 2))(x)\n",
        "\n",
        "x = Conv2D(filters=48, kernel_size=(5, 5), padding='same', activation='relu')(x)\n",
        "x = MaxPooling2D(pool_size=(2, 2))(x)\n",
        "\n",
        "x = Conv2D(filters=64, kernel_size=(5, 5), padding='same', activation='relu')(x)\n",
        "x = MaxPooling2D(pool_size=(2, 2))(x)\n",
        "\n",
        "x = Dropout(0.3)(x)\n",
        "x = Flatten()(x)\n",
        "x = Dense(512, activation='relu')(x)\n",
        "x = Dropout(0.3)(x)\n",
        "\n",
        "out = [Dense(10, name='digit%d' % i, activation='softmax')(x) for i in range(NUM_OF_LETTERS)]\n",
        "model = Model(inputs=input_layer, outputs=out)"
      ],
      "execution_count": 10,
      "outputs": []
    },
    {
      "cell_type": "code",
      "metadata": {
        "id": "_1aTZ32pvZpl",
        "colab_type": "code",
        "colab": {}
      },
      "source": [
        "# Uncomment these if you want to load and continue an already trained network\n",
        "\n",
        "# model_path = os.path.join(save_dir, model_name)\n",
        "# model = keras.models.load_model(model_path)"
      ],
      "execution_count": 11,
      "outputs": []
    },
    {
      "cell_type": "code",
      "metadata": {
        "id": "mvyFxZTlvfKR",
        "colab_type": "code",
        "colab": {
          "base_uri": "https://localhost:8080/",
          "height": 728
        },
        "outputId": "a11d69b7-98fb-4f62-e951-a5f0fbb843db"
      },
      "source": [
        "# initiate Adam optimizer\n",
        "\n",
        "model.compile(loss='binary_crossentropy',\n",
        "              optimizer='adam',\n",
        "              metrics=['accuracy'])\n",
        "\n",
        "\n",
        "model.summary() "
      ],
      "execution_count": 12,
      "outputs": [
        {
          "output_type": "stream",
          "text": [
            "Model: \"model_1\"\n",
            "__________________________________________________________________________________________________\n",
            "Layer (type)                    Output Shape         Param #     Connected to                     \n",
            "==================================================================================================\n",
            "input_1 (InputLayer)            (None, 25, 67, 1)    0                                            \n",
            "__________________________________________________________________________________________________\n",
            "conv2d_1 (Conv2D)               (None, 25, 67, 32)   832         input_1[0][0]                    \n",
            "__________________________________________________________________________________________________\n",
            "max_pooling2d_1 (MaxPooling2D)  (None, 12, 33, 32)   0           conv2d_1[0][0]                   \n",
            "__________________________________________________________________________________________________\n",
            "conv2d_2 (Conv2D)               (None, 12, 33, 48)   38448       max_pooling2d_1[0][0]            \n",
            "__________________________________________________________________________________________________\n",
            "max_pooling2d_2 (MaxPooling2D)  (None, 6, 16, 48)    0           conv2d_2[0][0]                   \n",
            "__________________________________________________________________________________________________\n",
            "conv2d_3 (Conv2D)               (None, 6, 16, 64)    76864       max_pooling2d_2[0][0]            \n",
            "__________________________________________________________________________________________________\n",
            "max_pooling2d_3 (MaxPooling2D)  (None, 3, 8, 64)     0           conv2d_3[0][0]                   \n",
            "__________________________________________________________________________________________________\n",
            "dropout_1 (Dropout)             (None, 3, 8, 64)     0           max_pooling2d_3[0][0]            \n",
            "__________________________________________________________________________________________________\n",
            "flatten_1 (Flatten)             (None, 1536)         0           dropout_1[0][0]                  \n",
            "__________________________________________________________________________________________________\n",
            "dense_1 (Dense)                 (None, 512)          786944      flatten_1[0][0]                  \n",
            "__________________________________________________________________________________________________\n",
            "dropout_2 (Dropout)             (None, 512)          0           dense_1[0][0]                    \n",
            "__________________________________________________________________________________________________\n",
            "digit0 (Dense)                  (None, 10)           5130        dropout_2[0][0]                  \n",
            "__________________________________________________________________________________________________\n",
            "digit1 (Dense)                  (None, 10)           5130        dropout_2[0][0]                  \n",
            "__________________________________________________________________________________________________\n",
            "digit2 (Dense)                  (None, 10)           5130        dropout_2[0][0]                  \n",
            "__________________________________________________________________________________________________\n",
            "digit3 (Dense)                  (None, 10)           5130        dropout_2[0][0]                  \n",
            "__________________________________________________________________________________________________\n",
            "digit4 (Dense)                  (None, 10)           5130        dropout_2[0][0]                  \n",
            "==================================================================================================\n",
            "Total params: 928,738\n",
            "Trainable params: 928,738\n",
            "Non-trainable params: 0\n",
            "__________________________________________________________________________________________________\n"
          ],
          "name": "stdout"
        }
      ]
    },
    {
      "cell_type": "code",
      "metadata": {
        "id": "xNW40AXivcK7",
        "colab_type": "code",
        "colab": {}
      },
      "source": [
        "hist_train_loss_digit = {i:[] for i in range(5)}\n",
        "hist_test_loss_digit = {i:[] for i in range(5)}\n",
        "\n",
        "hist_train_acc_digit = {i:[] for i in range(5)}\n",
        "hist_test_acc_digit = {i:[] for i in range(5)}\n",
        "\n",
        "hist_train_loss = []\n",
        "hist_test_loss = []\n",
        "\n",
        "hist_train_acc = []\n",
        "hist_test_acc = []"
      ],
      "execution_count": 13,
      "outputs": []
    },
    {
      "cell_type": "code",
      "metadata": {
        "id": "VFeIxaatvhap",
        "colab_type": "code",
        "colab": {}
      },
      "source": [
        "digit_acc = [[] for _ in range(NUM_OF_LETTERS)]\n",
        "val_digit_acc = [[] for _ in range(NUM_OF_LETTERS)]\n",
        "loss = []\n",
        "val_loss = []"
      ],
      "execution_count": 14,
      "outputs": []
    },
    {
      "cell_type": "code",
      "metadata": {
        "id": "IQTy-mCRvjIz",
        "colab_type": "code",
        "colab": {
          "base_uri": "https://localhost:8080/",
          "height": 1000
        },
        "outputId": "eac887df-defc-4167-d7ab-70789638feda"
      },
      "source": [
        "history = model.fit(x_train, s_train,\n",
        "                    batch_size=BATCH_SIZE,\n",
        "                    epochs=EPOCHS,\n",
        "                    verbose=1,\n",
        "                    validation_data=(x_test, s_test)\n",
        "                   )"
      ],
      "execution_count": 15,
      "outputs": [
        {
          "output_type": "stream",
          "text": [
            "Train on 27133 samples, validate on 3107 samples\n",
            "Epoch 1/50\n",
            "27133/27133 [==============================] - 12s 450us/step - loss: 1.5333 - digit0_loss: 0.2999 - digit1_loss: 0.3131 - digit2_loss: 0.3125 - digit3_loss: 0.3098 - digit4_loss: 0.2981 - digit0_accuracy: 0.9023 - digit1_accuracy: 0.9005 - digit2_accuracy: 0.9005 - digit3_accuracy: 0.9008 - digit4_accuracy: 0.9025 - val_loss: 1.1149 - val_digit0_loss: 0.1908 - val_digit1_loss: 0.2526 - val_digit2_loss: 0.2525 - val_digit3_loss: 0.2368 - val_digit4_loss: 0.1819 - val_digit0_accuracy: 0.9217 - val_digit1_accuracy: 0.9073 - val_digit2_accuracy: 0.9058 - val_digit3_accuracy: 0.9102 - val_digit4_accuracy: 0.9255\n",
            "Epoch 2/50\n",
            "27133/27133 [==============================] - 4s 156us/step - loss: 0.8478 - digit0_loss: 0.1164 - digit1_loss: 0.2026 - digit2_loss: 0.2203 - digit3_loss: 0.1911 - digit4_loss: 0.1173 - digit0_accuracy: 0.9551 - digit1_accuracy: 0.9238 - digit2_accuracy: 0.9176 - digit3_accuracy: 0.9279 - digit4_accuracy: 0.9549 - val_loss: 0.5127 - val_digit0_loss: 0.0489 - val_digit1_loss: 0.1342 - val_digit2_loss: 0.1576 - val_digit3_loss: 0.1202 - val_digit4_loss: 0.0516 - val_digit0_accuracy: 0.9841 - val_digit1_accuracy: 0.9504 - val_digit2_accuracy: 0.9405 - val_digit3_accuracy: 0.9574 - val_digit4_accuracy: 0.9818\n",
            "Epoch 3/50\n",
            "27133/27133 [==============================] - 4s 156us/step - loss: 0.5337 - digit0_loss: 0.0542 - digit1_loss: 0.1342 - digit2_loss: 0.1639 - digit3_loss: 0.1227 - digit4_loss: 0.0587 - digit0_accuracy: 0.9808 - digit1_accuracy: 0.9509 - digit2_accuracy: 0.9392 - digit3_accuracy: 0.9549 - digit4_accuracy: 0.9788 - val_loss: 0.3570 - val_digit0_loss: 0.0314 - val_digit1_loss: 0.0925 - val_digit2_loss: 0.1180 - val_digit3_loss: 0.0827 - val_digit4_loss: 0.0319 - val_digit0_accuracy: 0.9902 - val_digit1_accuracy: 0.9672 - val_digit2_accuracy: 0.9572 - val_digit3_accuracy: 0.9715 - val_digit4_accuracy: 0.9892\n",
            "Epoch 4/50\n",
            "27133/27133 [==============================] - 4s 156us/step - loss: 0.3964 - digit0_loss: 0.0395 - digit1_loss: 0.0995 - digit2_loss: 0.1240 - digit3_loss: 0.0910 - digit4_loss: 0.0425 - digit0_accuracy: 0.9860 - digit1_accuracy: 0.9639 - digit2_accuracy: 0.9544 - digit3_accuracy: 0.9669 - digit4_accuracy: 0.9849 - val_loss: 0.2556 - val_digit0_loss: 0.0219 - val_digit1_loss: 0.0651 - val_digit2_loss: 0.0839 - val_digit3_loss: 0.0604 - val_digit4_loss: 0.0233 - val_digit0_accuracy: 0.9924 - val_digit1_accuracy: 0.9771 - val_digit2_accuracy: 0.9697 - val_digit3_accuracy: 0.9787 - val_digit4_accuracy: 0.9918\n",
            "Epoch 5/50\n",
            "27133/27133 [==============================] - 4s 155us/step - loss: 0.3083 - digit0_loss: 0.0317 - digit1_loss: 0.0761 - digit2_loss: 0.0937 - digit3_loss: 0.0721 - digit4_loss: 0.0347 - digit0_accuracy: 0.9887 - digit1_accuracy: 0.9726 - digit2_accuracy: 0.9660 - digit3_accuracy: 0.9735 - digit4_accuracy: 0.9874 - val_loss: 0.1984 - val_digit0_loss: 0.0189 - val_digit1_loss: 0.0486 - val_digit2_loss: 0.0618 - val_digit3_loss: 0.0480 - val_digit4_loss: 0.0213 - val_digit0_accuracy: 0.9936 - val_digit1_accuracy: 0.9836 - val_digit2_accuracy: 0.9793 - val_digit3_accuracy: 0.9827 - val_digit4_accuracy: 0.9933\n",
            "Epoch 6/50\n",
            "27133/27133 [==============================] - 4s 155us/step - loss: 0.2482 - digit0_loss: 0.0262 - digit1_loss: 0.0603 - digit2_loss: 0.0737 - digit3_loss: 0.0587 - digit4_loss: 0.0292 - digit0_accuracy: 0.9907 - digit1_accuracy: 0.9787 - digit2_accuracy: 0.9736 - digit3_accuracy: 0.9789 - digit4_accuracy: 0.9895 - val_loss: 0.1459 - val_digit0_loss: 0.0141 - val_digit1_loss: 0.0360 - val_digit2_loss: 0.0439 - val_digit3_loss: 0.0355 - val_digit4_loss: 0.0159 - val_digit0_accuracy: 0.9952 - val_digit1_accuracy: 0.9878 - val_digit2_accuracy: 0.9854 - val_digit3_accuracy: 0.9874 - val_digit4_accuracy: 0.9946\n",
            "Epoch 7/50\n",
            "27133/27133 [==============================] - 4s 158us/step - loss: 0.2105 - digit0_loss: 0.0230 - digit1_loss: 0.0509 - digit2_loss: 0.0612 - digit3_loss: 0.0502 - digit4_loss: 0.0252 - digit0_accuracy: 0.9918 - digit1_accuracy: 0.9820 - digit2_accuracy: 0.9782 - digit3_accuracy: 0.9816 - digit4_accuracy: 0.9910 - val_loss: 0.1288 - val_digit0_loss: 0.0125 - val_digit1_loss: 0.0295 - val_digit2_loss: 0.0375 - val_digit3_loss: 0.0333 - val_digit4_loss: 0.0153 - val_digit0_accuracy: 0.9959 - val_digit1_accuracy: 0.9902 - val_digit2_accuracy: 0.9871 - val_digit3_accuracy: 0.9887 - val_digit4_accuracy: 0.9946\n",
            "Epoch 8/50\n",
            "27133/27133 [==============================] - 4s 162us/step - loss: 0.1811 - digit0_loss: 0.0193 - digit1_loss: 0.0447 - digit2_loss: 0.0520 - digit3_loss: 0.0425 - digit4_loss: 0.0226 - digit0_accuracy: 0.9932 - digit1_accuracy: 0.9841 - digit2_accuracy: 0.9817 - digit3_accuracy: 0.9845 - digit4_accuracy: 0.9919 - val_loss: 0.1113 - val_digit0_loss: 0.0109 - val_digit1_loss: 0.0269 - val_digit2_loss: 0.0322 - val_digit3_loss: 0.0284 - val_digit4_loss: 0.0127 - val_digit0_accuracy: 0.9958 - val_digit1_accuracy: 0.9913 - val_digit2_accuracy: 0.9894 - val_digit3_accuracy: 0.9904 - val_digit4_accuracy: 0.9958\n",
            "Epoch 9/50\n",
            "27133/27133 [==============================] - 4s 162us/step - loss: 0.1595 - digit0_loss: 0.0170 - digit1_loss: 0.0383 - digit2_loss: 0.0468 - digit3_loss: 0.0376 - digit4_loss: 0.0197 - digit0_accuracy: 0.9939 - digit1_accuracy: 0.9864 - digit2_accuracy: 0.9833 - digit3_accuracy: 0.9867 - digit4_accuracy: 0.9929 - val_loss: 0.0997 - val_digit0_loss: 0.0099 - val_digit1_loss: 0.0234 - val_digit2_loss: 0.0272 - val_digit3_loss: 0.0258 - val_digit4_loss: 0.0128 - val_digit0_accuracy: 0.9968 - val_digit1_accuracy: 0.9921 - val_digit2_accuracy: 0.9910 - val_digit3_accuracy: 0.9908 - val_digit4_accuracy: 0.9958\n",
            "Epoch 10/50\n",
            "27133/27133 [==============================] - 4s 157us/step - loss: 0.1402 - digit0_loss: 0.0165 - digit1_loss: 0.0327 - digit2_loss: 0.0401 - digit3_loss: 0.0331 - digit4_loss: 0.0178 - digit0_accuracy: 0.9940 - digit1_accuracy: 0.9884 - digit2_accuracy: 0.9858 - digit3_accuracy: 0.9884 - digit4_accuracy: 0.9937 - val_loss: 0.0835 - val_digit0_loss: 0.0085 - val_digit1_loss: 0.0195 - val_digit2_loss: 0.0226 - val_digit3_loss: 0.0215 - val_digit4_loss: 0.0108 - val_digit0_accuracy: 0.9971 - val_digit1_accuracy: 0.9933 - val_digit2_accuracy: 0.9927 - val_digit3_accuracy: 0.9920 - val_digit4_accuracy: 0.9963\n",
            "Epoch 11/50\n",
            "27133/27133 [==============================] - 4s 157us/step - loss: 0.1274 - digit0_loss: 0.0142 - digit1_loss: 0.0301 - digit2_loss: 0.0364 - digit3_loss: 0.0302 - digit4_loss: 0.0165 - digit0_accuracy: 0.9949 - digit1_accuracy: 0.9894 - digit2_accuracy: 0.9872 - digit3_accuracy: 0.9890 - digit4_accuracy: 0.9938 - val_loss: 0.0781 - val_digit0_loss: 0.0078 - val_digit1_loss: 0.0188 - val_digit2_loss: 0.0231 - val_digit3_loss: 0.0179 - val_digit4_loss: 0.0097 - val_digit0_accuracy: 0.9973 - val_digit1_accuracy: 0.9937 - val_digit2_accuracy: 0.9925 - val_digit3_accuracy: 0.9935 - val_digit4_accuracy: 0.9966\n",
            "Epoch 12/50\n",
            "27133/27133 [==============================] - 4s 155us/step - loss: 0.1171 - digit0_loss: 0.0128 - digit1_loss: 0.0291 - digit2_loss: 0.0325 - digit3_loss: 0.0278 - digit4_loss: 0.0148 - digit0_accuracy: 0.9953 - digit1_accuracy: 0.9895 - digit2_accuracy: 0.9885 - digit3_accuracy: 0.9903 - digit4_accuracy: 0.9946 - val_loss: 0.0751 - val_digit0_loss: 0.0072 - val_digit1_loss: 0.0173 - val_digit2_loss: 0.0208 - val_digit3_loss: 0.0195 - val_digit4_loss: 0.0098 - val_digit0_accuracy: 0.9976 - val_digit1_accuracy: 0.9939 - val_digit2_accuracy: 0.9930 - val_digit3_accuracy: 0.9939 - val_digit4_accuracy: 0.9969\n",
            "Epoch 13/50\n",
            "27133/27133 [==============================] - 4s 156us/step - loss: 0.1067 - digit0_loss: 0.0118 - digit1_loss: 0.0254 - digit2_loss: 0.0296 - digit3_loss: 0.0257 - digit4_loss: 0.0142 - digit0_accuracy: 0.9957 - digit1_accuracy: 0.9912 - digit2_accuracy: 0.9895 - digit3_accuracy: 0.9908 - digit4_accuracy: 0.9949 - val_loss: 0.0770 - val_digit0_loss: 0.0081 - val_digit1_loss: 0.0180 - val_digit2_loss: 0.0204 - val_digit3_loss: 0.0199 - val_digit4_loss: 0.0098 - val_digit0_accuracy: 0.9968 - val_digit1_accuracy: 0.9938 - val_digit2_accuracy: 0.9931 - val_digit3_accuracy: 0.9927 - val_digit4_accuracy: 0.9967\n",
            "Epoch 14/50\n",
            "27133/27133 [==============================] - 4s 156us/step - loss: 0.0982 - digit0_loss: 0.0108 - digit1_loss: 0.0228 - digit2_loss: 0.0277 - digit3_loss: 0.0233 - digit4_loss: 0.0136 - digit0_accuracy: 0.9961 - digit1_accuracy: 0.9918 - digit2_accuracy: 0.9902 - digit3_accuracy: 0.9914 - digit4_accuracy: 0.9953 - val_loss: 0.0708 - val_digit0_loss: 0.0079 - val_digit1_loss: 0.0150 - val_digit2_loss: 0.0200 - val_digit3_loss: 0.0184 - val_digit4_loss: 0.0086 - val_digit0_accuracy: 0.9974 - val_digit1_accuracy: 0.9948 - val_digit2_accuracy: 0.9930 - val_digit3_accuracy: 0.9932 - val_digit4_accuracy: 0.9971\n",
            "Epoch 15/50\n",
            "27133/27133 [==============================] - 4s 156us/step - loss: 0.0907 - digit0_loss: 0.0100 - digit1_loss: 0.0220 - digit2_loss: 0.0248 - digit3_loss: 0.0216 - digit4_loss: 0.0122 - digit0_accuracy: 0.9964 - digit1_accuracy: 0.9923 - digit2_accuracy: 0.9913 - digit3_accuracy: 0.9921 - digit4_accuracy: 0.9956 - val_loss: 0.0597 - val_digit0_loss: 0.0053 - val_digit1_loss: 0.0134 - val_digit2_loss: 0.0159 - val_digit3_loss: 0.0153 - val_digit4_loss: 0.0091 - val_digit0_accuracy: 0.9982 - val_digit1_accuracy: 0.9957 - val_digit2_accuracy: 0.9945 - val_digit3_accuracy: 0.9943 - val_digit4_accuracy: 0.9972\n",
            "Epoch 16/50\n",
            "27133/27133 [==============================] - 4s 156us/step - loss: 0.0856 - digit0_loss: 0.0092 - digit1_loss: 0.0215 - digit2_loss: 0.0232 - digit3_loss: 0.0203 - digit4_loss: 0.0114 - digit0_accuracy: 0.9967 - digit1_accuracy: 0.9923 - digit2_accuracy: 0.9920 - digit3_accuracy: 0.9926 - digit4_accuracy: 0.9960 - val_loss: 0.0634 - val_digit0_loss: 0.0064 - val_digit1_loss: 0.0145 - val_digit2_loss: 0.0171 - val_digit3_loss: 0.0154 - val_digit4_loss: 0.0092 - val_digit0_accuracy: 0.9980 - val_digit1_accuracy: 0.9953 - val_digit2_accuracy: 0.9940 - val_digit3_accuracy: 0.9943 - val_digit4_accuracy: 0.9970\n",
            "Epoch 17/50\n",
            "27133/27133 [==============================] - 4s 156us/step - loss: 0.0795 - digit0_loss: 0.0088 - digit1_loss: 0.0189 - digit2_loss: 0.0221 - digit3_loss: 0.0190 - digit4_loss: 0.0107 - digit0_accuracy: 0.9967 - digit1_accuracy: 0.9933 - digit2_accuracy: 0.9924 - digit3_accuracy: 0.9934 - digit4_accuracy: 0.9961 - val_loss: 0.0544 - val_digit0_loss: 0.0054 - val_digit1_loss: 0.0123 - val_digit2_loss: 0.0150 - val_digit3_loss: 0.0140 - val_digit4_loss: 0.0073 - val_digit0_accuracy: 0.9983 - val_digit1_accuracy: 0.9958 - val_digit2_accuracy: 0.9949 - val_digit3_accuracy: 0.9953 - val_digit4_accuracy: 0.9977\n",
            "Epoch 18/50\n",
            "27133/27133 [==============================] - 4s 155us/step - loss: 0.0750 - digit0_loss: 0.0084 - digit1_loss: 0.0181 - digit2_loss: 0.0207 - digit3_loss: 0.0177 - digit4_loss: 0.0103 - digit0_accuracy: 0.9970 - digit1_accuracy: 0.9936 - digit2_accuracy: 0.9927 - digit3_accuracy: 0.9938 - digit4_accuracy: 0.9963 - val_loss: 0.0558 - val_digit0_loss: 0.0058 - val_digit1_loss: 0.0122 - val_digit2_loss: 0.0157 - val_digit3_loss: 0.0140 - val_digit4_loss: 0.0073 - val_digit0_accuracy: 0.9981 - val_digit1_accuracy: 0.9961 - val_digit2_accuracy: 0.9948 - val_digit3_accuracy: 0.9953 - val_digit4_accuracy: 0.9973\n",
            "Epoch 19/50\n",
            "27133/27133 [==============================] - 4s 156us/step - loss: 0.0695 - digit0_loss: 0.0079 - digit1_loss: 0.0166 - digit2_loss: 0.0191 - digit3_loss: 0.0167 - digit4_loss: 0.0092 - digit0_accuracy: 0.9972 - digit1_accuracy: 0.9941 - digit2_accuracy: 0.9932 - digit3_accuracy: 0.9940 - digit4_accuracy: 0.9968 - val_loss: 0.0543 - val_digit0_loss: 0.0049 - val_digit1_loss: 0.0124 - val_digit2_loss: 0.0143 - val_digit3_loss: 0.0144 - val_digit4_loss: 0.0077 - val_digit0_accuracy: 0.9980 - val_digit1_accuracy: 0.9954 - val_digit2_accuracy: 0.9955 - val_digit3_accuracy: 0.9952 - val_digit4_accuracy: 0.9976\n",
            "Epoch 20/50\n",
            "27133/27133 [==============================] - 4s 155us/step - loss: 0.0665 - digit0_loss: 0.0079 - digit1_loss: 0.0163 - digit2_loss: 0.0180 - digit3_loss: 0.0155 - digit4_loss: 0.0087 - digit0_accuracy: 0.9971 - digit1_accuracy: 0.9943 - digit2_accuracy: 0.9936 - digit3_accuracy: 0.9944 - digit4_accuracy: 0.9970 - val_loss: 0.0542 - val_digit0_loss: 0.0061 - val_digit1_loss: 0.0122 - val_digit2_loss: 0.0156 - val_digit3_loss: 0.0131 - val_digit4_loss: 0.0068 - val_digit0_accuracy: 0.9978 - val_digit1_accuracy: 0.9961 - val_digit2_accuracy: 0.9951 - val_digit3_accuracy: 0.9953 - val_digit4_accuracy: 0.9975\n",
            "Epoch 21/50\n",
            "27133/27133 [==============================] - 4s 156us/step - loss: 0.0650 - digit0_loss: 0.0073 - digit1_loss: 0.0156 - digit2_loss: 0.0181 - digit3_loss: 0.0158 - digit4_loss: 0.0082 - digit0_accuracy: 0.9974 - digit1_accuracy: 0.9942 - digit2_accuracy: 0.9937 - digit3_accuracy: 0.9942 - digit4_accuracy: 0.9970 - val_loss: 0.0554 - val_digit0_loss: 0.0046 - val_digit1_loss: 0.0128 - val_digit2_loss: 0.0161 - val_digit3_loss: 0.0145 - val_digit4_loss: 0.0073 - val_digit0_accuracy: 0.9983 - val_digit1_accuracy: 0.9958 - val_digit2_accuracy: 0.9944 - val_digit3_accuracy: 0.9954 - val_digit4_accuracy: 0.9972\n",
            "Epoch 22/50\n",
            "27133/27133 [==============================] - 4s 156us/step - loss: 0.0600 - digit0_loss: 0.0070 - digit1_loss: 0.0145 - digit2_loss: 0.0163 - digit3_loss: 0.0142 - digit4_loss: 0.0079 - digit0_accuracy: 0.9975 - digit1_accuracy: 0.9948 - digit2_accuracy: 0.9943 - digit3_accuracy: 0.9949 - digit4_accuracy: 0.9972 - val_loss: 0.0502 - val_digit0_loss: 0.0041 - val_digit1_loss: 0.0115 - val_digit2_loss: 0.0140 - val_digit3_loss: 0.0132 - val_digit4_loss: 0.0071 - val_digit0_accuracy: 0.9986 - val_digit1_accuracy: 0.9958 - val_digit2_accuracy: 0.9950 - val_digit3_accuracy: 0.9955 - val_digit4_accuracy: 0.9978\n",
            "Epoch 23/50\n",
            "27133/27133 [==============================] - 4s 159us/step - loss: 0.0578 - digit0_loss: 0.0069 - digit1_loss: 0.0135 - digit2_loss: 0.0163 - digit3_loss: 0.0135 - digit4_loss: 0.0075 - digit0_accuracy: 0.9976 - digit1_accuracy: 0.9952 - digit2_accuracy: 0.9943 - digit3_accuracy: 0.9950 - digit4_accuracy: 0.9973 - val_loss: 0.0526 - val_digit0_loss: 0.0053 - val_digit1_loss: 0.0118 - val_digit2_loss: 0.0142 - val_digit3_loss: 0.0145 - val_digit4_loss: 0.0067 - val_digit0_accuracy: 0.9979 - val_digit1_accuracy: 0.9959 - val_digit2_accuracy: 0.9951 - val_digit3_accuracy: 0.9954 - val_digit4_accuracy: 0.9977\n",
            "Epoch 24/50\n",
            "27133/27133 [==============================] - 4s 157us/step - loss: 0.0569 - digit0_loss: 0.0069 - digit1_loss: 0.0136 - digit2_loss: 0.0159 - digit3_loss: 0.0127 - digit4_loss: 0.0078 - digit0_accuracy: 0.9975 - digit1_accuracy: 0.9951 - digit2_accuracy: 0.9944 - digit3_accuracy: 0.9954 - digit4_accuracy: 0.9972 - val_loss: 0.0549 - val_digit0_loss: 0.0057 - val_digit1_loss: 0.0133 - val_digit2_loss: 0.0135 - val_digit3_loss: 0.0144 - val_digit4_loss: 0.0074 - val_digit0_accuracy: 0.9980 - val_digit1_accuracy: 0.9955 - val_digit2_accuracy: 0.9955 - val_digit3_accuracy: 0.9956 - val_digit4_accuracy: 0.9977\n",
            "Epoch 25/50\n",
            "27133/27133 [==============================] - 4s 157us/step - loss: 0.0536 - digit0_loss: 0.0061 - digit1_loss: 0.0131 - digit2_loss: 0.0143 - digit3_loss: 0.0128 - digit4_loss: 0.0074 - digit0_accuracy: 0.9978 - digit1_accuracy: 0.9954 - digit2_accuracy: 0.9950 - digit3_accuracy: 0.9954 - digit4_accuracy: 0.9974 - val_loss: 0.0509 - val_digit0_loss: 0.0040 - val_digit1_loss: 0.0126 - val_digit2_loss: 0.0141 - val_digit3_loss: 0.0131 - val_digit4_loss: 0.0066 - val_digit0_accuracy: 0.9986 - val_digit1_accuracy: 0.9956 - val_digit2_accuracy: 0.9949 - val_digit3_accuracy: 0.9959 - val_digit4_accuracy: 0.9980\n",
            "Epoch 26/50\n",
            "27133/27133 [==============================] - 4s 155us/step - loss: 0.0510 - digit0_loss: 0.0061 - digit1_loss: 0.0121 - digit2_loss: 0.0133 - digit3_loss: 0.0125 - digit4_loss: 0.0070 - digit0_accuracy: 0.9978 - digit1_accuracy: 0.9957 - digit2_accuracy: 0.9953 - digit3_accuracy: 0.9956 - digit4_accuracy: 0.9974 - val_loss: 0.0461 - val_digit0_loss: 0.0041 - val_digit1_loss: 0.0110 - val_digit2_loss: 0.0116 - val_digit3_loss: 0.0125 - val_digit4_loss: 0.0062 - val_digit0_accuracy: 0.9986 - val_digit1_accuracy: 0.9964 - val_digit2_accuracy: 0.9958 - val_digit3_accuracy: 0.9959 - val_digit4_accuracy: 0.9981\n",
            "Epoch 27/50\n",
            "27133/27133 [==============================] - 4s 156us/step - loss: 0.0483 - digit0_loss: 0.0051 - digit1_loss: 0.0121 - digit2_loss: 0.0132 - digit3_loss: 0.0116 - digit4_loss: 0.0062 - digit0_accuracy: 0.9982 - digit1_accuracy: 0.9959 - digit2_accuracy: 0.9954 - digit3_accuracy: 0.9959 - digit4_accuracy: 0.9979 - val_loss: 0.0494 - val_digit0_loss: 0.0047 - val_digit1_loss: 0.0119 - val_digit2_loss: 0.0128 - val_digit3_loss: 0.0127 - val_digit4_loss: 0.0068 - val_digit0_accuracy: 0.9985 - val_digit1_accuracy: 0.9963 - val_digit2_accuracy: 0.9956 - val_digit3_accuracy: 0.9955 - val_digit4_accuracy: 0.9977\n",
            "Epoch 28/50\n",
            "27133/27133 [==============================] - 4s 157us/step - loss: 0.0468 - digit0_loss: 0.0056 - digit1_loss: 0.0118 - digit2_loss: 0.0131 - digit3_loss: 0.0104 - digit4_loss: 0.0060 - digit0_accuracy: 0.9980 - digit1_accuracy: 0.9959 - digit2_accuracy: 0.9955 - digit3_accuracy: 0.9963 - digit4_accuracy: 0.9979 - val_loss: 0.0456 - val_digit0_loss: 0.0037 - val_digit1_loss: 0.0105 - val_digit2_loss: 0.0125 - val_digit3_loss: 0.0123 - val_digit4_loss: 0.0060 - val_digit0_accuracy: 0.9985 - val_digit1_accuracy: 0.9971 - val_digit2_accuracy: 0.9963 - val_digit3_accuracy: 0.9960 - val_digit4_accuracy: 0.9983\n",
            "Epoch 29/50\n",
            "27133/27133 [==============================] - 4s 157us/step - loss: 0.0486 - digit0_loss: 0.0061 - digit1_loss: 0.0113 - digit2_loss: 0.0131 - digit3_loss: 0.0115 - digit4_loss: 0.0065 - digit0_accuracy: 0.9978 - digit1_accuracy: 0.9961 - digit2_accuracy: 0.9954 - digit3_accuracy: 0.9960 - digit4_accuracy: 0.9978 - val_loss: 0.0503 - val_digit0_loss: 0.0038 - val_digit1_loss: 0.0111 - val_digit2_loss: 0.0146 - val_digit3_loss: 0.0134 - val_digit4_loss: 0.0067 - val_digit0_accuracy: 0.9985 - val_digit1_accuracy: 0.9960 - val_digit2_accuracy: 0.9952 - val_digit3_accuracy: 0.9957 - val_digit4_accuracy: 0.9977\n",
            "Epoch 30/50\n",
            "27133/27133 [==============================] - 4s 156us/step - loss: 0.0462 - digit0_loss: 0.0050 - digit1_loss: 0.0107 - digit2_loss: 0.0134 - digit3_loss: 0.0106 - digit4_loss: 0.0065 - digit0_accuracy: 0.9982 - digit1_accuracy: 0.9962 - digit2_accuracy: 0.9955 - digit3_accuracy: 0.9963 - digit4_accuracy: 0.9977 - val_loss: 0.0484 - val_digit0_loss: 0.0042 - val_digit1_loss: 0.0106 - val_digit2_loss: 0.0133 - val_digit3_loss: 0.0134 - val_digit4_loss: 0.0063 - val_digit0_accuracy: 0.9984 - val_digit1_accuracy: 0.9965 - val_digit2_accuracy: 0.9956 - val_digit3_accuracy: 0.9953 - val_digit4_accuracy: 0.9977\n",
            "Epoch 31/50\n",
            "27133/27133 [==============================] - 4s 158us/step - loss: 0.0459 - digit0_loss: 0.0055 - digit1_loss: 0.0104 - digit2_loss: 0.0124 - digit3_loss: 0.0112 - digit4_loss: 0.0065 - digit0_accuracy: 0.9981 - digit1_accuracy: 0.9964 - digit2_accuracy: 0.9955 - digit3_accuracy: 0.9960 - digit4_accuracy: 0.9976 - val_loss: 0.0458 - val_digit0_loss: 0.0036 - val_digit1_loss: 0.0108 - val_digit2_loss: 0.0129 - val_digit3_loss: 0.0118 - val_digit4_loss: 0.0062 - val_digit0_accuracy: 0.9986 - val_digit1_accuracy: 0.9965 - val_digit2_accuracy: 0.9959 - val_digit3_accuracy: 0.9959 - val_digit4_accuracy: 0.9982\n",
            "Epoch 32/50\n",
            "27133/27133 [==============================] - 4s 157us/step - loss: 0.0433 - digit0_loss: 0.0054 - digit1_loss: 0.0108 - digit2_loss: 0.0111 - digit3_loss: 0.0096 - digit4_loss: 0.0064 - digit0_accuracy: 0.9981 - digit1_accuracy: 0.9962 - digit2_accuracy: 0.9961 - digit3_accuracy: 0.9966 - digit4_accuracy: 0.9977 - val_loss: 0.0444 - val_digit0_loss: 0.0030 - val_digit1_loss: 0.0106 - val_digit2_loss: 0.0134 - val_digit3_loss: 0.0116 - val_digit4_loss: 0.0057 - val_digit0_accuracy: 0.9988 - val_digit1_accuracy: 0.9969 - val_digit2_accuracy: 0.9957 - val_digit3_accuracy: 0.9966 - val_digit4_accuracy: 0.9983\n",
            "Epoch 33/50\n",
            "27133/27133 [==============================] - 4s 155us/step - loss: 0.0408 - digit0_loss: 0.0047 - digit1_loss: 0.0100 - digit2_loss: 0.0107 - digit3_loss: 0.0096 - digit4_loss: 0.0058 - digit0_accuracy: 0.9984 - digit1_accuracy: 0.9965 - digit2_accuracy: 0.9963 - digit3_accuracy: 0.9965 - digit4_accuracy: 0.9979 - val_loss: 0.0409 - val_digit0_loss: 0.0027 - val_digit1_loss: 0.0092 - val_digit2_loss: 0.0126 - val_digit3_loss: 0.0107 - val_digit4_loss: 0.0055 - val_digit0_accuracy: 0.9992 - val_digit1_accuracy: 0.9971 - val_digit2_accuracy: 0.9958 - val_digit3_accuracy: 0.9969 - val_digit4_accuracy: 0.9981\n",
            "Epoch 34/50\n",
            "27133/27133 [==============================] - 4s 155us/step - loss: 0.0389 - digit0_loss: 0.0041 - digit1_loss: 0.0098 - digit2_loss: 0.0101 - digit3_loss: 0.0100 - digit4_loss: 0.0050 - digit0_accuracy: 0.9985 - digit1_accuracy: 0.9965 - digit2_accuracy: 0.9965 - digit3_accuracy: 0.9965 - digit4_accuracy: 0.9982 - val_loss: 0.0445 - val_digit0_loss: 0.0035 - val_digit1_loss: 0.0096 - val_digit2_loss: 0.0126 - val_digit3_loss: 0.0126 - val_digit4_loss: 0.0058 - val_digit0_accuracy: 0.9989 - val_digit1_accuracy: 0.9969 - val_digit2_accuracy: 0.9959 - val_digit3_accuracy: 0.9958 - val_digit4_accuracy: 0.9981\n",
            "Epoch 35/50\n",
            "27133/27133 [==============================] - 4s 156us/step - loss: 0.0407 - digit0_loss: 0.0044 - digit1_loss: 0.0093 - digit2_loss: 0.0114 - digit3_loss: 0.0101 - digit4_loss: 0.0055 - digit0_accuracy: 0.9985 - digit1_accuracy: 0.9967 - digit2_accuracy: 0.9961 - digit3_accuracy: 0.9964 - digit4_accuracy: 0.9980 - val_loss: 0.0426 - val_digit0_loss: 0.0033 - val_digit1_loss: 0.0089 - val_digit2_loss: 0.0121 - val_digit3_loss: 0.0112 - val_digit4_loss: 0.0064 - val_digit0_accuracy: 0.9987 - val_digit1_accuracy: 0.9972 - val_digit2_accuracy: 0.9961 - val_digit3_accuracy: 0.9963 - val_digit4_accuracy: 0.9982\n",
            "Epoch 36/50\n",
            "27133/27133 [==============================] - 4s 157us/step - loss: 0.0383 - digit0_loss: 0.0043 - digit1_loss: 0.0095 - digit2_loss: 0.0104 - digit3_loss: 0.0090 - digit4_loss: 0.0051 - digit0_accuracy: 0.9985 - digit1_accuracy: 0.9968 - digit2_accuracy: 0.9965 - digit3_accuracy: 0.9969 - digit4_accuracy: 0.9982 - val_loss: 0.0493 - val_digit0_loss: 0.0039 - val_digit1_loss: 0.0118 - val_digit2_loss: 0.0141 - val_digit3_loss: 0.0122 - val_digit4_loss: 0.0068 - val_digit0_accuracy: 0.9986 - val_digit1_accuracy: 0.9965 - val_digit2_accuracy: 0.9958 - val_digit3_accuracy: 0.9962 - val_digit4_accuracy: 0.9978\n",
            "Epoch 37/50\n",
            "27133/27133 [==============================] - 4s 156us/step - loss: 0.0376 - digit0_loss: 0.0045 - digit1_loss: 0.0093 - digit2_loss: 0.0104 - digit3_loss: 0.0082 - digit4_loss: 0.0052 - digit0_accuracy: 0.9984 - digit1_accuracy: 0.9967 - digit2_accuracy: 0.9965 - digit3_accuracy: 0.9972 - digit4_accuracy: 0.9981 - val_loss: 0.0467 - val_digit0_loss: 0.0036 - val_digit1_loss: 0.0107 - val_digit2_loss: 0.0135 - val_digit3_loss: 0.0114 - val_digit4_loss: 0.0070 - val_digit0_accuracy: 0.9986 - val_digit1_accuracy: 0.9970 - val_digit2_accuracy: 0.9956 - val_digit3_accuracy: 0.9965 - val_digit4_accuracy: 0.9980\n",
            "Epoch 38/50\n",
            "27133/27133 [==============================] - 4s 156us/step - loss: 0.0354 - digit0_loss: 0.0045 - digit1_loss: 0.0090 - digit2_loss: 0.0090 - digit3_loss: 0.0080 - digit4_loss: 0.0049 - digit0_accuracy: 0.9984 - digit1_accuracy: 0.9969 - digit2_accuracy: 0.9967 - digit3_accuracy: 0.9972 - digit4_accuracy: 0.9983 - val_loss: 0.0450 - val_digit0_loss: 0.0050 - val_digit1_loss: 0.0102 - val_digit2_loss: 0.0127 - val_digit3_loss: 0.0112 - val_digit4_loss: 0.0056 - val_digit0_accuracy: 0.9985 - val_digit1_accuracy: 0.9966 - val_digit2_accuracy: 0.9957 - val_digit3_accuracy: 0.9964 - val_digit4_accuracy: 0.9984\n",
            "Epoch 39/50\n",
            "27133/27133 [==============================] - 4s 156us/step - loss: 0.0370 - digit0_loss: 0.0050 - digit1_loss: 0.0088 - digit2_loss: 0.0100 - digit3_loss: 0.0083 - digit4_loss: 0.0049 - digit0_accuracy: 0.9984 - digit1_accuracy: 0.9969 - digit2_accuracy: 0.9967 - digit3_accuracy: 0.9971 - digit4_accuracy: 0.9984 - val_loss: 0.0424 - val_digit0_loss: 0.0033 - val_digit1_loss: 0.0088 - val_digit2_loss: 0.0117 - val_digit3_loss: 0.0104 - val_digit4_loss: 0.0073 - val_digit0_accuracy: 0.9988 - val_digit1_accuracy: 0.9970 - val_digit2_accuracy: 0.9964 - val_digit3_accuracy: 0.9966 - val_digit4_accuracy: 0.9978\n",
            "Epoch 40/50\n",
            "27133/27133 [==============================] - 4s 156us/step - loss: 0.0343 - digit0_loss: 0.0045 - digit1_loss: 0.0077 - digit2_loss: 0.0091 - digit3_loss: 0.0084 - digit4_loss: 0.0048 - digit0_accuracy: 0.9984 - digit1_accuracy: 0.9973 - digit2_accuracy: 0.9967 - digit3_accuracy: 0.9970 - digit4_accuracy: 0.9982 - val_loss: 0.0455 - val_digit0_loss: 0.0046 - val_digit1_loss: 0.0106 - val_digit2_loss: 0.0132 - val_digit3_loss: 0.0109 - val_digit4_loss: 0.0058 - val_digit0_accuracy: 0.9983 - val_digit1_accuracy: 0.9964 - val_digit2_accuracy: 0.9962 - val_digit3_accuracy: 0.9968 - val_digit4_accuracy: 0.9980\n",
            "Epoch 41/50\n",
            "27133/27133 [==============================] - 4s 156us/step - loss: 0.0357 - digit0_loss: 0.0044 - digit1_loss: 0.0087 - digit2_loss: 0.0095 - digit3_loss: 0.0084 - digit4_loss: 0.0047 - digit0_accuracy: 0.9984 - digit1_accuracy: 0.9971 - digit2_accuracy: 0.9968 - digit3_accuracy: 0.9969 - digit4_accuracy: 0.9984 - val_loss: 0.0434 - val_digit0_loss: 0.0037 - val_digit1_loss: 0.0099 - val_digit2_loss: 0.0109 - val_digit3_loss: 0.0114 - val_digit4_loss: 0.0068 - val_digit0_accuracy: 0.9988 - val_digit1_accuracy: 0.9969 - val_digit2_accuracy: 0.9967 - val_digit3_accuracy: 0.9965 - val_digit4_accuracy: 0.9978\n",
            "Epoch 42/50\n",
            "27133/27133 [==============================] - 4s 159us/step - loss: 0.0356 - digit0_loss: 0.0043 - digit1_loss: 0.0087 - digit2_loss: 0.0093 - digit3_loss: 0.0086 - digit4_loss: 0.0047 - digit0_accuracy: 0.9985 - digit1_accuracy: 0.9970 - digit2_accuracy: 0.9967 - digit3_accuracy: 0.9970 - digit4_accuracy: 0.9984 - val_loss: 0.0440 - val_digit0_loss: 0.0048 - val_digit1_loss: 0.0099 - val_digit2_loss: 0.0112 - val_digit3_loss: 0.0100 - val_digit4_loss: 0.0069 - val_digit0_accuracy: 0.9986 - val_digit1_accuracy: 0.9968 - val_digit2_accuracy: 0.9965 - val_digit3_accuracy: 0.9969 - val_digit4_accuracy: 0.9981\n",
            "Epoch 43/50\n",
            "27133/27133 [==============================] - 4s 156us/step - loss: 0.0358 - digit0_loss: 0.0045 - digit1_loss: 0.0086 - digit2_loss: 0.0094 - digit3_loss: 0.0085 - digit4_loss: 0.0048 - digit0_accuracy: 0.9984 - digit1_accuracy: 0.9969 - digit2_accuracy: 0.9966 - digit3_accuracy: 0.9971 - digit4_accuracy: 0.9983 - val_loss: 0.0453 - val_digit0_loss: 0.0029 - val_digit1_loss: 0.0102 - val_digit2_loss: 0.0133 - val_digit3_loss: 0.0122 - val_digit4_loss: 0.0061 - val_digit0_accuracy: 0.9990 - val_digit1_accuracy: 0.9967 - val_digit2_accuracy: 0.9961 - val_digit3_accuracy: 0.9960 - val_digit4_accuracy: 0.9980\n",
            "Epoch 44/50\n",
            "27133/27133 [==============================] - 4s 156us/step - loss: 0.0313 - digit0_loss: 0.0040 - digit1_loss: 0.0076 - digit2_loss: 0.0087 - digit3_loss: 0.0070 - digit4_loss: 0.0041 - digit0_accuracy: 0.9986 - digit1_accuracy: 0.9975 - digit2_accuracy: 0.9970 - digit3_accuracy: 0.9977 - digit4_accuracy: 0.9987 - val_loss: 0.0428 - val_digit0_loss: 0.0044 - val_digit1_loss: 0.0088 - val_digit2_loss: 0.0117 - val_digit3_loss: 0.0118 - val_digit4_loss: 0.0061 - val_digit0_accuracy: 0.9986 - val_digit1_accuracy: 0.9970 - val_digit2_accuracy: 0.9964 - val_digit3_accuracy: 0.9961 - val_digit4_accuracy: 0.9985\n",
            "Epoch 45/50\n",
            "27133/27133 [==============================] - 4s 156us/step - loss: 0.0331 - digit0_loss: 0.0040 - digit1_loss: 0.0080 - digit2_loss: 0.0087 - digit3_loss: 0.0083 - digit4_loss: 0.0041 - digit0_accuracy: 0.9986 - digit1_accuracy: 0.9972 - digit2_accuracy: 0.9970 - digit3_accuracy: 0.9973 - digit4_accuracy: 0.9984 - val_loss: 0.0403 - val_digit0_loss: 0.0035 - val_digit1_loss: 0.0087 - val_digit2_loss: 0.0115 - val_digit3_loss: 0.0116 - val_digit4_loss: 0.0046 - val_digit0_accuracy: 0.9988 - val_digit1_accuracy: 0.9973 - val_digit2_accuracy: 0.9964 - val_digit3_accuracy: 0.9965 - val_digit4_accuracy: 0.9987\n",
            "Epoch 46/50\n",
            "27133/27133 [==============================] - 4s 156us/step - loss: 0.0286 - digit0_loss: 0.0036 - digit1_loss: 0.0070 - digit2_loss: 0.0074 - digit3_loss: 0.0068 - digit4_loss: 0.0038 - digit0_accuracy: 0.9987 - digit1_accuracy: 0.9976 - digit2_accuracy: 0.9974 - digit3_accuracy: 0.9976 - digit4_accuracy: 0.9986 - val_loss: 0.0414 - val_digit0_loss: 0.0037 - val_digit1_loss: 0.0087 - val_digit2_loss: 0.0129 - val_digit3_loss: 0.0099 - val_digit4_loss: 0.0058 - val_digit0_accuracy: 0.9986 - val_digit1_accuracy: 0.9976 - val_digit2_accuracy: 0.9958 - val_digit3_accuracy: 0.9967 - val_digit4_accuracy: 0.9983\n",
            "Epoch 47/50\n",
            "27133/27133 [==============================] - 4s 158us/step - loss: 0.0313 - digit0_loss: 0.0037 - digit1_loss: 0.0076 - digit2_loss: 0.0082 - digit3_loss: 0.0076 - digit4_loss: 0.0042 - digit0_accuracy: 0.9988 - digit1_accuracy: 0.9974 - digit2_accuracy: 0.9972 - digit3_accuracy: 0.9975 - digit4_accuracy: 0.9986 - val_loss: 0.0459 - val_digit0_loss: 0.0038 - val_digit1_loss: 0.0106 - val_digit2_loss: 0.0133 - val_digit3_loss: 0.0115 - val_digit4_loss: 0.0061 - val_digit0_accuracy: 0.9987 - val_digit1_accuracy: 0.9968 - val_digit2_accuracy: 0.9956 - val_digit3_accuracy: 0.9965 - val_digit4_accuracy: 0.9986\n",
            "Epoch 48/50\n",
            "27133/27133 [==============================] - 4s 156us/step - loss: 0.0303 - digit0_loss: 0.0040 - digit1_loss: 0.0077 - digit2_loss: 0.0075 - digit3_loss: 0.0068 - digit4_loss: 0.0042 - digit0_accuracy: 0.9986 - digit1_accuracy: 0.9974 - digit2_accuracy: 0.9974 - digit3_accuracy: 0.9976 - digit4_accuracy: 0.9984 - val_loss: 0.0467 - val_digit0_loss: 0.0041 - val_digit1_loss: 0.0088 - val_digit2_loss: 0.0134 - val_digit3_loss: 0.0123 - val_digit4_loss: 0.0073 - val_digit0_accuracy: 0.9989 - val_digit1_accuracy: 0.9974 - val_digit2_accuracy: 0.9963 - val_digit3_accuracy: 0.9966 - val_digit4_accuracy: 0.9981\n",
            "Epoch 49/50\n",
            "27133/27133 [==============================] - 4s 156us/step - loss: 0.0293 - digit0_loss: 0.0038 - digit1_loss: 0.0071 - digit2_loss: 0.0077 - digit3_loss: 0.0062 - digit4_loss: 0.0046 - digit0_accuracy: 0.9987 - digit1_accuracy: 0.9976 - digit2_accuracy: 0.9974 - digit3_accuracy: 0.9978 - digit4_accuracy: 0.9985 - val_loss: 0.0490 - val_digit0_loss: 0.0047 - val_digit1_loss: 0.0109 - val_digit2_loss: 0.0126 - val_digit3_loss: 0.0139 - val_digit4_loss: 0.0068 - val_digit0_accuracy: 0.9984 - val_digit1_accuracy: 0.9967 - val_digit2_accuracy: 0.9959 - val_digit3_accuracy: 0.9959 - val_digit4_accuracy: 0.9978\n",
            "Epoch 50/50\n",
            "27133/27133 [==============================] - 4s 157us/step - loss: 0.0307 - digit0_loss: 0.0040 - digit1_loss: 0.0073 - digit2_loss: 0.0083 - digit3_loss: 0.0070 - digit4_loss: 0.0041 - digit0_accuracy: 0.9986 - digit1_accuracy: 0.9975 - digit2_accuracy: 0.9971 - digit3_accuracy: 0.9976 - digit4_accuracy: 0.9986 - val_loss: 0.0401 - val_digit0_loss: 0.0028 - val_digit1_loss: 0.0085 - val_digit2_loss: 0.0114 - val_digit3_loss: 0.0101 - val_digit4_loss: 0.0065 - val_digit0_accuracy: 0.9989 - val_digit1_accuracy: 0.9974 - val_digit2_accuracy: 0.9966 - val_digit3_accuracy: 0.9974 - val_digit4_accuracy: 0.9982\n"
          ],
          "name": "stdout"
        }
      ]
    },
    {
      "cell_type": "code",
      "metadata": {
        "id": "PK5FjnNp63eL",
        "colab_type": "code",
        "colab": {}
      },
      "source": [
        "digit_acc = [[] for _ in range(NUM_OF_LETTERS)]\n",
        "val_digit_acc = [[] for _ in range(NUM_OF_LETTERS)]\n",
        "loss = []\n",
        "val_loss = []\n",
        "\n",
        "\n",
        "def plot_diagram(digit_acc_now, val_digit_acc_now, loss_now, val_loss_now):\n",
        "    global digit_acc, val_digit_acc, loss, val_loss\n",
        "    \n",
        "    for i in range(NUM_OF_LETTERS):\n",
        "        digit_acc[i].extend(digit_acc_now[i])\n",
        "        val_digit_acc[i].extend(val_digit_acc_now[i])\n",
        "    loss.extend(loss_now)\n",
        "    val_loss.extend(val_loss_now)\n",
        "    \n",
        "    for i in range(NUM_OF_LETTERS):\n",
        "        s = {0:'First', 1:'Second', 2:'Third', 3:'Fourth', 4:'Fifth'}[i]\n",
        "        # plt.plot(val_digit_acc[i], label='%s Digit Train' % s)\n",
        "        plt.plot(digit_acc[i], label='%s Digit Test' % s)\n",
        "\n",
        "    plt.title('Model accuracy')\n",
        "    plt.ylabel('Accuracy')\n",
        "    plt.xlabel('Epoch')\n",
        "    plt.legend()\n",
        "    plt.show()\n",
        "\n",
        "    for i in range(NUM_OF_LETTERS):\n",
        "        s = {0:'First', 1:'Second', 2:'Third', 3:'Fourth', 4:'Fifth'}[i]\n",
        "        plt.plot(val_digit_acc[i], label='%s Digit Train' % s)\n",
        "        # plt.plot(digit_acc[i], label='%s Digit Test' % s)\n",
        "\n",
        "    plt.title('Model accuracy')\n",
        "    plt.ylabel('Accuracy')\n",
        "    plt.xlabel('Epoch')\n",
        "    plt.legend()\n",
        "    plt.show()\n",
        "\n",
        "\n",
        "\n",
        "    # Plot training & validation loss values\n",
        "    plt.plot(val_loss, label='Train')\n",
        "    plt.plot(loss, label='Test')\n",
        "    plt.title('Model loss')\n",
        "    plt.ylabel('Loss')\n",
        "    plt.xlabel('Epoch')\n",
        "    plt.legend()\n",
        "    plt.show()"
      ],
      "execution_count": 17,
      "outputs": []
    },
    {
      "cell_type": "code",
      "metadata": {
        "id": "gmz3c1Ve8xG1",
        "colab_type": "code",
        "colab": {
          "base_uri": "https://localhost:8080/",
          "height": 851
        },
        "outputId": "b480f317-e5d7-4c9e-b2b6-bf9a30bbe85b"
      },
      "source": [
        "plot_diagram(\n",
        "    \n",
        "    [history.history['digit%d_accuracy' % i] for i in range(NUM_OF_LETTERS)],\n",
        "    [history.history['val_digit%d_accuracy' % i] for i in range(NUM_OF_LETTERS)],\n",
        "    history.history['loss'],\n",
        "    history.history['val_loss'],\n",
        ")"
      ],
      "execution_count": 18,
      "outputs": [
        {
          "output_type": "display_data",
          "data": {
            "image/png": "[encoded data removed]",
            "text/plain": [
              "<Figure size 432x288 with 1 Axes>"
            ]
          },
          "metadata": {
            "tags": [],
            "needs_background": "light"
          }
        },
        {
          "output_type": "display_data",
          "data": {
            "image/png": "[encoded data removed]",
            "text/plain": [
              "<Figure size 432x288 with 1 Axes>"
            ]
          },
          "metadata": {
            "tags": [],
            "needs_background": "light"
          }
        },
        {
          "output_type": "display_data",
          "data": {
            "image/png": "[encoded data removed]",
            "text/plain": [
              "<Figure size 432x288 with 1 Axes>"
            ]
          },
          "metadata": {
            "tags": [],
            "needs_background": "light"
          }
        }
      ]
    },
    {
      "cell_type": "code",
      "metadata": {
        "id": "MQIbUVBY6-SG",
        "colab_type": "code",
        "colab": {
          "base_uri": "https://localhost:8080/",
          "height": 35
        },
        "outputId": "0596423a-7d03-46d0-b108-a0f126218d04"
      },
      "source": [
        "# Save model and weights\n",
        "if not os.path.isdir(save_dir):\n",
        "    os.makedirs(save_dir)\n",
        "model_path = os.path.join(save_dir, model_name)\n",
        "model.save(model_path)\n",
        "print('Saved trained model at %s ' % model_path)"
      ],
      "execution_count": 20,
      "outputs": [
        {
          "output_type": "stream",
          "text": [
            "Saved trained model at /content/saved_models/keras_cifar10_trained_model.h5 \n"
          ],
          "name": "stdout"
        }
      ]
    },
    {
      "cell_type": "code",
      "metadata": {
        "id": "x8cshRKD7Bak",
        "colab_type": "code",
        "colab": {
          "base_uri": "https://localhost:8080/",
          "height": 70
        },
        "outputId": "75117368-9ece-4ef2-965d-d0f76781c72c"
      },
      "source": [
        "# Score trained model.\n",
        "scores = model.evaluate(x_train, s_train, verbose=1)\n",
        "print('Train loss:     %f' % np.mean(scores[0:5]))\n",
        "acc = 1.\n",
        "for i in range(5):\n",
        "    acc *= scores[6+i]\n",
        "print('Train accuracy: %.2f' % (acc * 100.))"
      ],
      "execution_count": 21,
      "outputs": [
        {
          "output_type": "stream",
          "text": [
            "27133/27133 [==============================] - 5s 179us/step\n",
            "Train loss:     0.000731\n",
            "Train accuracy: 99.96\n"
          ],
          "name": "stdout"
        }
      ]
    },
    {
      "cell_type": "code",
      "metadata": {
        "id": "yfQ_5Ago7EWh",
        "colab_type": "code",
        "colab": {
          "base_uri": "https://localhost:8080/",
          "height": 70
        },
        "outputId": "dc90d08c-c0cb-4a7d-e498-85a0c9d9fbbf"
      },
      "source": [
        "scores = model.evaluate(x_test, s_test, verbose=1)\n",
        "print('Test loss:     %f' % np.mean(scores[0:5]))\n",
        "acc = 1.\n",
        "for i in range(5):\n",
        "    acc *= scores[6+i]\n",
        "print('Test accuracy: %.2f' % (acc * 100.))"
      ],
      "execution_count": 22,
      "outputs": [
        {
          "output_type": "stream",
          "text": [
            "3107/3107 [==============================] - 1s 187us/step\n",
            "Test loss:     0.014718\n",
            "Test accuracy: 98.84\n"
          ],
          "name": "stdout"
        }
      ]
    }
  ]
}